{
 "cells": [
  {
   "cell_type": "markdown",
   "metadata": {},
   "source": [
    "## Data preprocessing"
   ]
  },
  {
   "cell_type": "code",
   "execution_count": 1,
   "metadata": {},
   "outputs": [],
   "source": [
    "from gensim.models import KeyedVectors\n",
    "w2v = KeyedVectors.load_word2vec_format('glove.6B.100d.bin.word2vec', binary=True)"
   ]
  },
  {
   "cell_type": "code",
   "execution_count": 2,
   "metadata": {},
   "outputs": [],
   "source": [
    "import numpy as np\n",
    "SEQUENCE_LENGTH = 6\n",
    "HIDDEN_SIZE = 256\n",
    "\n",
    "EMBEDDING_SIZE_ORIG = 100\n",
    "EMBEDDING_SIZE = 103\n",
    "\n",
    "def encode_word(word, w2v):\n",
    "    if word == \"<pad>\":\n",
    "        v = np.zeros((EMBEDDING_SIZE,))\n",
    "        v[EMBEDDING_SIZE-1] = 1\n",
    "        return v\n",
    "    elif word == \"<newline>\":\n",
    "        v = np.zeros((EMBEDDING_SIZE,))\n",
    "        v[EMBEDDING_SIZE-2] = 1\n",
    "        return v\n",
    "    elif word == \"<unk>\" or word not in w2v:\n",
    "        v = np.zeros((EMBEDDING_SIZE,))\n",
    "        v[EMBEDDING_SIZE-3] = 1\n",
    "        return v\n",
    "    else:        \n",
    "        v = w2v[word]\n",
    "        w = np.zeros((3,))\n",
    "        return np.append(v, w, axis=0)\n",
    "\n",
    "def encode_words(words, w2v):\n",
    "    vec = np.zeros((len(words), EMBEDDING_SIZE))\n",
    "    for (i,word) in enumerate(words):\n",
    "        vec[i] = encode_word(word, w2v)\n",
    "    return vec"
   ]
  },
  {
   "cell_type": "code",
   "execution_count": 3,
   "metadata": {},
   "outputs": [
    {
     "name": "stdout",
     "output_type": "stream",
     "text": [
      "(103,)\n",
      "(103,)\n"
     ]
    }
   ],
   "source": [
    "v = encode_word(\"hello\", w2v)\n",
    "print(v.shape)\n",
    "w = encode_word(\"boom-a-boomerang\", w2v)\n",
    "print(w.shape)"
   ]
  },
  {
   "cell_type": "code",
   "execution_count": 4,
   "metadata": {},
   "outputs": [
    {
     "name": "stdout",
     "output_type": "stream",
     "text": [
      "101\n",
      "102\n",
      "100\n"
     ]
    }
   ],
   "source": [
    "v_newline = encode_word(\"<newline>\", w2v)\n",
    "v_pad = encode_word(\"<pad>\", w2v)\n",
    "v_unk = encode_word(\"<unk>\", w2v)\n",
    "\n",
    "print(np.argmax(v_newline))\n",
    "print(np.argmax(v_pad))\n",
    "print(np.argmax(v_unk))"
   ]
  },
  {
   "cell_type": "code",
   "execution_count": 5,
   "metadata": {},
   "outputs": [],
   "source": [
    "def decode_vec(vec, w2v):\n",
    "    base_vec = vec[:EMBEDDING_SIZE_ORIG]\n",
    "    ext_vec = vec[EMBEDDING_SIZE_ORIG:]\n",
    "    if ext_vec[0]:\n",
    "        return \"<unk>\"\n",
    "    elif ext_vec[1]:\n",
    "        return \"<newline>\"\n",
    "    elif ext_vec[2]:\n",
    "        return \"<pad>\"\n",
    "    else:\n",
    "        return w2v.similar_by_vector(base_vec)[0][0]"
   ]
  },
  {
   "cell_type": "code",
   "execution_count": 6,
   "metadata": {},
   "outputs": [
    {
     "name": "stdout",
     "output_type": "stream",
     "text": [
      "hello\n",
      "<newline>\n",
      "<pad>\n",
      "<unk>\n"
     ]
    }
   ],
   "source": [
    "print(decode_vec(v, w2v))\n",
    "print(decode_vec(v_newline, w2v))\n",
    "print(decode_vec(v_pad, w2v))\n",
    "print(decode_vec(v_unk, w2v))"
   ]
  },
  {
   "cell_type": "code",
   "execution_count": 7,
   "metadata": {},
   "outputs": [],
   "source": [
    "def tokenize_song(song, buffer_length):\n",
    "    tokens = song\n",
    "\n",
    "    x_train = []\n",
    "    y_train = []\n",
    "    for i in range(0, len(song)):\n",
    "        if i+buffer_length+1 >= len(tokens):\n",
    "            pad_length = (i+buffer_length+1) - len(tokens)\n",
    "            tokens += ['<pad>'] * pad_length\n",
    "\n",
    "        x_train.append(tokens[i:i+buffer_length])\n",
    "        y_train.append(tokens[i+buffer_length])\n",
    "\n",
    "    return x_train,y_train"
   ]
  },
  {
   "cell_type": "code",
   "execution_count": 8,
   "metadata": {},
   "outputs": [],
   "source": [
    "token_vocab = {'<pad>', '<unk>'}\n",
    "songs = []\n",
    "with open(\"data/sentences.txt\", \"r\") as f:\n",
    "    for line in f.readlines():\n",
    "        tokens = [token for token in line.rstrip().split(\" \")]\n",
    "        songs.append(tokens)\n",
    "        token_vocab = token_vocab.union(set(tokens))"
   ]
  },
  {
   "cell_type": "code",
   "execution_count": 9,
   "metadata": {},
   "outputs": [
    {
     "name": "stdout",
     "output_type": "stream",
     "text": [
      "114929\n",
      "['look', 'at', 'her', 'face', ',', 'it']\n"
     ]
    }
   ],
   "source": [
    "x_vec = []\n",
    "y_vec = []\n",
    "for song in songs:\n",
    "    x_vec_i, y_vec_i = tokenize_song(song, SEQUENCE_LENGTH)\n",
    "    x_vec.extend(x_vec_i)\n",
    "    y_vec.extend(y_vec_i)\n",
    "print(len(x_vec))\n",
    "print(x_vec[0])"
   ]
  },
  {
   "cell_type": "code",
   "execution_count": 46,
   "metadata": {},
   "outputs": [
    {
     "name": "stdout",
     "output_type": "stream",
     "text": [
      "Vocab size: 5111\n",
      "W2V vocab size: 400000\n"
     ]
    }
   ],
   "source": [
    "from pathlib import Path\n",
    "\n",
    "def load_vocab(path):\n",
    "    vocab = list()\n",
    "    with path.open(\"r\") as f:\n",
    "        for line in f.readlines():\n",
    "            vocab.append(line.rstrip())\n",
    "    return vocab\n",
    "\n",
    "def write_vocab(path):\n",
    "    with path.open(\"w\") as f:\n",
    "        for word in words:\n",
    "            f.write(word + \"\\n\")\n",
    "        \n",
    "# Read or create vocab path\n",
    "vocab_path = Path(\"vocab.txt\")\n",
    "words = list()\n",
    "if vocab_path.is_file():\n",
    "    words = load_vocab(vocab_path)   \n",
    "else:\n",
    "    write_vocab(vocab_path)\n",
    "    words = list(token_vocab)\n",
    "\n",
    "vocab_size = len(words)\n",
    "print(\"Vocab size:\", vocab_size)\n",
    "print(\"W2V vocab size:\", len(w2v.vocab))\n",
    "word2idx = { word:i for i,word in enumerate(words) }\n",
    "idx2word = { i:word for i,word in enumerate(words) }"
   ]
  },
  {
   "cell_type": "code",
   "execution_count": 25,
   "metadata": {},
   "outputs": [],
   "source": [
    "def one_hot_encode(word, word2idx):\n",
    "    v = np.zeros((len(word2idx, )))\n",
    "    v[word2idx[word]] = 1\n",
    "    return v\n",
    "\n",
    "def one_hot_decode(word, idx2word):\n",
    "    return idx2word[np.argmax(word)]"
   ]
  },
  {
   "cell_type": "code",
   "execution_count": 26,
   "metadata": {},
   "outputs": [
    {
     "name": "stdout",
     "output_type": "stream",
     "text": [
      "1448\n",
      "1448\n"
     ]
    }
   ],
   "source": [
    "print(word2idx[\"hello\"])\n",
    "print(np.argmax(one_hot_encode(\"hello\", word2idx)))"
   ]
  },
  {
   "cell_type": "markdown",
   "metadata": {},
   "source": [
    "## Train/Test split"
   ]
  },
  {
   "cell_type": "code",
   "execution_count": 27,
   "metadata": {},
   "outputs": [],
   "source": [
    "from sklearn.model_selection import train_test_split\n",
    "import math\n",
    "\n",
    "# 80% Train, 10% Dev, 10% Test\n",
    "X_train, X_test, Y_train, Y_test = train_test_split(x_vec, y_vec, test_size=0.2)\n",
    "X_dev, X_test, Y_dev, Y_test = train_test_split(X_test, Y_test, test_size=0.5)"
   ]
  },
  {
   "cell_type": "code",
   "execution_count": 28,
   "metadata": {},
   "outputs": [
    {
     "name": "stdout",
     "output_type": "stream",
     "text": [
      "Total size: 114929\n",
      "Training size: 91943\n",
      "Development set size: 11493\n",
      "Test set size: 11493\n"
     ]
    }
   ],
   "source": [
    "print(\"Total size:\", len(x_vec))\n",
    "print(\"Training size:\", len(X_train))\n",
    "print(\"Development set size:\", len(X_dev))\n",
    "print(\"Test set size:\", len(X_test))"
   ]
  },
  {
   "cell_type": "code",
   "execution_count": 29,
   "metadata": {},
   "outputs": [],
   "source": [
    "from random import shuffle\n",
    "def generate_batches(data_length, mini_batch_size):\n",
    "    for begin in range(0, data_length, mini_batch_size):\n",
    "        end = min(begin + mini_batch_size, data_length)\n",
    "        yield begin, end\n",
    "\n",
    "def load_batch(xs, ys, begin, end):\n",
    "    batch_size = end-begin\n",
    "    \n",
    "    x_train = np.zeros((batch_size, SEQUENCE_LENGTH, EMBEDDING_SIZE))\n",
    "    y_train = np.zeros((batch_size, vocab_size))\n",
    "    \n",
    "    xs_batch = xs[begin:end]\n",
    "    ys_batch = ys[begin:end]\n",
    "    \n",
    "    c = list(zip(xs_batch, ys_batch))\n",
    "    shuffle(c)\n",
    "    xs_batch, ys_batch = zip(*c)\n",
    "    \n",
    "    for i in range(batch_size):\n",
    "        x_train[i] = encode_words(xs_batch[i], w2v)\n",
    "        y_train[i] = one_hot_encode(ys_batch[i], word2idx)\n",
    "    \n",
    "    return x_train, y_train"
   ]
  },
  {
   "cell_type": "code",
   "execution_count": 30,
   "metadata": {},
   "outputs": [
    {
     "name": "stdout",
     "output_type": "stream",
     "text": [
      "(512, 6, 103) (512, 5111)\n",
      "X train\n",
      "'s one time too many <newline>\n",
      "could i do ? <newline> and\n",
      "but the best for you too\n",
      "take me take me to the\n",
      "there was <newline> to lose and\n",
      "you know when to make me\n",
      "all of the time <newline> i\n",
      "on the log where the catfish\n",
      ", honey this is it <newline>\n",
      "all very fine <newline> exert that\n",
      "\n",
      "Y train\n",
      "the\n",
      "when\n",
      "<newline>\n",
      "other\n",
      "gain\n",
      ",\n",
      "do\n",
      "bite\n",
      "so\n",
      "will\n"
     ]
    }
   ],
   "source": [
    "batches = generate_batches(len(X_train), 512)\n",
    "begin, end = next(batches)\n",
    "\n",
    "x_train, y_train = load_batch(X_train, Y_train, begin, end)\n",
    "print(x_train.shape, y_train.shape)\n",
    "\n",
    "print(\"X train\")\n",
    "for j in range(10):\n",
    "    ws = ' '.join([decode_vec(x_train[j][i], w2v) for i in range(SEQUENCE_LENGTH)])\n",
    "    print(ws)\n",
    "    \n",
    "print(\"\\nY train\")\n",
    "for j in range(10):\n",
    "    print(one_hot_decode(y_train[j], idx2word))"
   ]
  },
  {
   "cell_type": "markdown",
   "metadata": {},
   "source": [
    "## Machine Learning Time"
   ]
  },
  {
   "cell_type": "code",
   "execution_count": 84,
   "metadata": {},
   "outputs": [],
   "source": [
    "from keras.models import Sequential, load_model\n",
    "from keras.layers import Dense, LSTM, Embedding, Dropout\n",
    "from keras.layers import LeakyReLU\n",
    "def build_model(vocab_size):\n",
    "    model = Sequential()\n",
    "    model.add(LSTM(128, input_shape=(SEQUENCE_LENGTH, EMBEDDING_SIZE), return_sequences=True))\n",
    "    model.add(Dropout(0.4))\n",
    "    model.add(LSTM(1024))\n",
    "    model.add(Dropout(0.4))\n",
    "    model.add(Dense(2048))\n",
    "    model.add(LeakyReLU(alpha=0.1))\n",
    "    model.add(Dense(vocab_size, activation='softmax'))\n",
    "    model.compile(loss = 'categorical_crossentropy', optimizer=\"rmsprop\", metrics = ['accuracy'])\n",
    "    return model\n",
    "model = build_model(vocab_size)\n",
    "weights_path = Path(\"weights.h5\")\n",
    "if weights_path.is_file():\n",
    "    model.load_weights(weights_path.resolve())"
   ]
  },
  {
   "cell_type": "code",
   "execution_count": 85,
   "metadata": {},
   "outputs": [],
   "source": [
    "batches = list(generate_batches(len(X_train), 2048))"
   ]
  },
  {
   "cell_type": "code",
   "execution_count": 86,
   "metadata": {},
   "outputs": [
    {
     "name": "stdout",
     "output_type": "stream",
     "text": [
      "Epoch 1/10\n",
      "2048/2048 [==============================] - 2s 1ms/step - loss: 5.2542 - accuracy: 0.2305\n",
      "Epoch 2/10\n",
      "2048/2048 [==============================] - 2s 1ms/step - loss: 2.8538 - accuracy: 0.4097\n",
      "Epoch 3/10\n",
      "2048/2048 [==============================] - 2s 1000us/step - loss: 1.5890 - accuracy: 0.6099\n",
      "Epoch 4/10\n",
      "2048/2048 [==============================] - 2s 1ms/step - loss: 0.8392 - accuracy: 0.7935\n",
      "Epoch 5/10\n",
      "2048/2048 [==============================] - 2s 1ms/step - loss: 0.4730 - accuracy: 0.8867\n",
      "Epoch 6/10\n",
      "2048/2048 [==============================] - 2s 1ms/step - loss: 0.2892 - accuracy: 0.9336\n",
      "Epoch 7/10\n",
      "2048/2048 [==============================] - 2s 1ms/step - loss: 0.2072 - accuracy: 0.9517\n",
      "Epoch 8/10\n",
      "2048/2048 [==============================] - 2s 1ms/step - loss: 0.1524 - accuracy: 0.9614\n",
      "Epoch 9/10\n",
      "2048/2048 [==============================] - 2s 1ms/step - loss: 0.1136 - accuracy: 0.9731\n",
      "Epoch 10/10\n",
      "2048/2048 [==============================] - 2s 1ms/step - loss: 0.1059 - accuracy: 0.9775\n",
      "Epoch 1/10\n",
      "2048/2048 [==============================] - 2s 1ms/step - loss: 5.4336 - accuracy: 0.2266\n",
      "Epoch 2/10\n",
      "2048/2048 [==============================] - 2s 1ms/step - loss: 3.0503 - accuracy: 0.3979\n",
      "Epoch 3/10\n",
      "2048/2048 [==============================] - 2s 1ms/step - loss: 1.8479 - accuracy: 0.5747\n",
      "Epoch 4/10\n",
      "2048/2048 [==============================] - 2s 1ms/step - loss: 1.0287 - accuracy: 0.7480\n",
      "Epoch 5/10\n",
      "2048/2048 [==============================] - 2s 1ms/step - loss: 0.5412 - accuracy: 0.8706\n",
      "Epoch 6/10\n",
      "2048/2048 [==============================] - 2s 1ms/step - loss: 0.3181 - accuracy: 0.9194\n",
      "Epoch 7/10\n",
      "2048/2048 [==============================] - 2s 1ms/step - loss: 0.2190 - accuracy: 0.9458\n",
      "Epoch 8/10\n",
      "2048/2048 [==============================] - 2s 993us/step - loss: 0.1569 - accuracy: 0.9653\n",
      "Epoch 9/10\n",
      "2048/2048 [==============================] - 2s 1ms/step - loss: 0.1098 - accuracy: 0.9761\n",
      "Epoch 10/10\n",
      "2048/2048 [==============================] - 2s 991us/step - loss: 0.0950 - accuracy: 0.9814\n",
      "Epoch 1/10\n",
      "2048/2048 [==============================] - 2s 986us/step - loss: 1.9557 - accuracy: 0.5845\n",
      "Epoch 2/10\n",
      "2048/2048 [==============================] - 2s 989us/step - loss: 0.2868 - accuracy: 0.9258\n",
      "Epoch 3/10\n",
      "2048/2048 [==============================] - 2s 987us/step - loss: 0.1308 - accuracy: 0.9688\n",
      "Epoch 4/10\n",
      "2048/2048 [==============================] - 2s 977us/step - loss: 0.0802 - accuracy: 0.9795\n",
      "Epoch 5/10\n",
      "2048/2048 [==============================] - 2s 985us/step - loss: 0.0758 - accuracy: 0.9814\n",
      "Epoch 6/10\n",
      "2048/2048 [==============================] - 2s 981us/step - loss: 0.0584 - accuracy: 0.9873\n",
      "Epoch 7/10\n",
      "2048/2048 [==============================] - 2s 985us/step - loss: 0.0495 - accuracy: 0.9912\n",
      "Epoch 8/10\n",
      "2048/2048 [==============================] - 2s 984us/step - loss: 0.0456 - accuracy: 0.9897\n",
      "Epoch 9/10\n",
      "2048/2048 [==============================] - 2s 984us/step - loss: 0.0434 - accuracy: 0.9893\n",
      "Epoch 10/10\n",
      "2048/2048 [==============================] - 2s 981us/step - loss: 0.0340 - accuracy: 0.9922\n",
      "Epoch 1/10\n",
      "2048/2048 [==============================] - 2s 985us/step - loss: 6.1983 - accuracy: 0.2061\n",
      "Epoch 2/10\n",
      "2048/2048 [==============================] - 2s 991us/step - loss: 3.6487 - accuracy: 0.3330\n",
      "Epoch 3/10\n",
      "2048/2048 [==============================] - 2s 983us/step - loss: 2.4668 - accuracy: 0.4761\n",
      "Epoch 4/10\n",
      "2048/2048 [==============================] - 2s 979us/step - loss: 1.5862 - accuracy: 0.6343\n",
      "Epoch 5/10\n",
      "2048/2048 [==============================] - 2s 986us/step - loss: 0.8857 - accuracy: 0.7886\n",
      "Epoch 6/10\n",
      "2048/2048 [==============================] - 2s 986us/step - loss: 0.5373 - accuracy: 0.8721\n",
      "Epoch 7/10\n",
      "2048/2048 [==============================] - 2s 990us/step - loss: 0.3202 - accuracy: 0.9219\n",
      "Epoch 8/10\n",
      "2048/2048 [==============================] - 2s 981us/step - loss: 0.1929 - accuracy: 0.9536\n",
      "Epoch 9/10\n",
      "2048/2048 [==============================] - 2s 996us/step - loss: 0.1630 - accuracy: 0.9648\n",
      "Epoch 10/10\n",
      "2048/2048 [==============================] - 2s 979us/step - loss: 0.1156 - accuracy: 0.9722\n"
     ]
    }
   ],
   "source": [
    "shuffle(batches)\n",
    "for i in range(4):\n",
    "    begin, end = batches[i]\n",
    "    x_batch, y_batch = load_batch(X_train, Y_train, begin, end)\n",
    "    model.fit(x_batch, y_batch, batch_size=256, epochs=10)"
   ]
  },
  {
   "cell_type": "code",
   "execution_count": 89,
   "metadata": {},
   "outputs": [],
   "source": [
    "model.save_weights(\"weights.h5\")"
   ]
  },
  {
   "cell_type": "markdown",
   "metadata": {},
   "source": [
    "## Test on development set"
   ]
  },
  {
   "cell_type": "code",
   "execution_count": 75,
   "metadata": {},
   "outputs": [],
   "source": [
    "def sample(preds, temperature=1.0):\n",
    "    preds = preds.reshape(preds.shape[1])\n",
    "    arr = np.asarray(preds).astype('float64')\n",
    "    log_preds_scaled = np.log(arr) / temperature\n",
    "    preds_scaled = np.exp(log_preds_scaled)\n",
    "    softmaxed = preds_scaled / np.sum(preds_scaled)\n",
    "    probas = np.random.multinomial(1, softmaxed, 1)\n",
    "    return np.argmax(probas)"
   ]
  },
  {
   "cell_type": "code",
   "execution_count": 88,
   "metadata": {},
   "outputs": [
    {
     "name": "stdout",
     "output_type": "stream",
     "text": [
      "Accuracy: 0.178\n",
      "Perplexity: 922.5297516416108\n"
     ]
    }
   ],
   "source": [
    "perplexity = 0\n",
    "accuracy = 0\n",
    "temperature = 1.4\n",
    "\n",
    "samples = list(zip(X_dev, Y_dev))[:1000]\n",
    "    \n",
    "for x, y in samples:\n",
    "    words_seq = encode_words(x, w2v).reshape(1, SEQUENCE_LENGTH, EMBEDDING_SIZE)\n",
    "    preds = model.predict(words_seq)[0]\n",
    "    likelihood = preds[word2idx[y]]\n",
    "    perplexity += np.log2(likelihood)\n",
    "\n",
    "    y_hat = idx2word[sample(model.predict(words_seq), temperature=temperature)]\n",
    "    if y_hat == y:\n",
    "        accuracy += 1\n",
    "\n",
    "num_samples = len(samples)\n",
    "        \n",
    "perplexity = np.power(2, perplexity * -1/num_samples)\n",
    "print(\"Accuracy:\", accuracy / num_samples)\n",
    "print(\"Perplexity:\", perplexity)"
   ]
  },
  {
   "cell_type": "code",
   "execution_count": 82,
   "metadata": {},
   "outputs": [
    {
     "name": "stdout",
     "output_type": "stream",
     "text": [
      "look at her face , it 's fiddle turn on trying <newline> when all you can honey gon from open ? <newline> swear wan with none think the live to the game old news blushing cried to invite <newline> she 've turned wolf to keep away to break off <newline> i feel eatin ' on heaven i ca n't let go <newline> 're like a scars\n"
     ]
    }
   ],
   "source": [
    "#words = [\"never\", \"gonna\", \"give\", \"you\", \"up\", \",\"]\n",
    "words = [\"look\", \"at\", \"her\", \"face\", \",\", \"it\"]\n",
    "#words = [\"when\", \"there\", \"'s\", \"a\", \"dark\", \"storm\"]\n",
    "#words = [\"do\", \"better\", \",\", \"who\", \"better\", \"?\"]\n",
    "words_seq = encode_words(words, w2v)\n",
    "words_seq = words_seq.reshape(1, SEQUENCE_LENGTH, EMBEDDING_SIZE)\n",
    "#print(' '.join([decode_vec(words[0][i], w2v) for i in range(SEQUENCE_LENGTH)]))\n",
    "\n",
    "result = words\n",
    "for j in range(60):\n",
    "    word = idx2word[sample(model.predict(words_seq), temperature=1.4)]\n",
    "    #word = one_hot_decode(model.predict(words_seq), idx2word)\n",
    "    result.append(word)\n",
    "    \n",
    "    new_words = np.zeros((1, SEQUENCE_LENGTH, EMBEDDING_SIZE))\n",
    "    for i in range(SEQUENCE_LENGTH-1):\n",
    "        new_words[0, i] = words_seq[0, i+1]\n",
    "    new_words[0, SEQUENCE_LENGTH-1] = encode_word(word, w2v)\n",
    "    words_seq = new_words\n",
    "\n",
    "#print(' '.join([decode_vec(words[0][i], w2v) for i in range(SEQUENCE_LENGTH)]))\n",
    "\n",
    "print(' '.join(result))\n",
    "    #words = new_words\n",
    "        #new_words[0] = words[0, 1]\n",
    "        #new_words[0, 1] = words[0, 2]\n",
    "        #new_words[0, 2] = words[0, 3]\n",
    "        #new_words[0, 3] = encode_word(word, word2idx)\n",
    "    "
   ]
  },
  {
   "cell_type": "code",
   "execution_count": null,
   "metadata": {},
   "outputs": [],
   "source": []
  },
  {
   "cell_type": "code",
   "execution_count": null,
   "metadata": {},
   "outputs": [],
   "source": []
  }
 ],
 "metadata": {
  "kernelspec": {
   "display_name": "Python 3",
   "language": "python",
   "name": "python3"
  },
  "language_info": {
   "codemirror_mode": {
    "name": "ipython",
    "version": 3
   },
   "file_extension": ".py",
   "mimetype": "text/x-python",
   "name": "python",
   "nbconvert_exporter": "python",
   "pygments_lexer": "ipython3",
   "version": "3.6.9"
  }
 },
 "nbformat": 4,
 "nbformat_minor": 2
}
