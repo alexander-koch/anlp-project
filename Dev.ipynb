{
 "cells": [
  {
   "cell_type": "code",
   "execution_count": 1,
   "metadata": {},
   "outputs": [],
   "source": [
    "from gensim.models import KeyedVectors\n",
    "w2v = KeyedVectors.load_word2vec_format('glove.6B.100d.txt.word2vec', binary=False)"
   ]
  },
  {
   "cell_type": "code",
   "execution_count": 226,
   "metadata": {},
   "outputs": [],
   "source": [
    "import numpy as np\n",
    "SEQUENCE_LENGTH = 4\n",
    "HIDDEN_SIZE = 256\n",
    "\n",
    "EMBEDDING_SIZE_ORIG = 100\n",
    "EMBEDDING_SIZE = 103\n",
    "\n",
    "def encode_word(word, w2v):\n",
    "    if word == \"<pad>\":\n",
    "        v = np.zeros((EMBEDDING_SIZE,))\n",
    "        v[EMBEDDING_SIZE-1] = 1\n",
    "        return v\n",
    "    elif word == \"<newline>\":\n",
    "        v = np.zeros((EMBEDDING_SIZE,))\n",
    "        v[EMBEDDING_SIZE-2] = 1\n",
    "        return v\n",
    "    elif word == \"<unk>\" or word not in w2v:\n",
    "        v = np.zeros((EMBEDDING_SIZE,))\n",
    "        v[EMBEDDING_SIZE-3] = 1\n",
    "        return v\n",
    "    else:        \n",
    "        v = w2v[word]\n",
    "        w = np.zeros((3,))\n",
    "        return np.append(v, w, axis=0)\n",
    "\n",
    "def encode_words(words, w2v):\n",
    "    vec = np.zeros((len(words), EMBEDDING_SIZE))\n",
    "    for (i,word) in enumerate(words):\n",
    "        vec[i] = encode_word(word, w2v)\n",
    "    return vec"
   ]
  },
  {
   "cell_type": "code",
   "execution_count": 227,
   "metadata": {},
   "outputs": [
    {
     "name": "stdout",
     "output_type": "stream",
     "text": [
      "(103,)\n",
      "(103,)\n"
     ]
    }
   ],
   "source": [
    "v = encode_word(\"hello\", w2v)\n",
    "print(v.shape)\n",
    "w = encode_word(\"boom-a-boomerang\", w2v)\n",
    "print(w.shape)"
   ]
  },
  {
   "cell_type": "code",
   "execution_count": 228,
   "metadata": {},
   "outputs": [
    {
     "name": "stdout",
     "output_type": "stream",
     "text": [
      "101\n",
      "102\n",
      "100\n"
     ]
    }
   ],
   "source": [
    "v_newline = encode_word(\"<newline>\", w2v)\n",
    "v_pad = encode_word(\"<pad>\", w2v)\n",
    "v_unk = encode_word(\"<unk>\", w2v)\n",
    "\n",
    "print(np.argmax(v_newline))\n",
    "print(np.argmax(v_pad))\n",
    "print(np.argmax(v_unk))"
   ]
  },
  {
   "cell_type": "code",
   "execution_count": 229,
   "metadata": {},
   "outputs": [],
   "source": [
    "def decode_vec(vec, w2v):\n",
    "    base_vec = vec[:EMBEDDING_SIZE_ORIG]\n",
    "    ext_vec = vec[EMBEDDING_SIZE_ORIG:]\n",
    "    if ext_vec[0]:\n",
    "        return \"<unk>\"\n",
    "    elif ext_vec[1]:\n",
    "        return \"<newline>\"\n",
    "    elif ext_vec[2]:\n",
    "        return \"<pad>\"\n",
    "    else:\n",
    "        return w2v.similar_by_vector(base_vec)[0][0]"
   ]
  },
  {
   "cell_type": "code",
   "execution_count": 230,
   "metadata": {},
   "outputs": [
    {
     "name": "stdout",
     "output_type": "stream",
     "text": [
      "hello\n",
      "<newline>\n",
      "<pad>\n",
      "<unk>\n"
     ]
    }
   ],
   "source": [
    "print(decode_vec(v, w2v))\n",
    "print(decode_vec(v_newline, w2v))\n",
    "print(decode_vec(v_pad, w2v))\n",
    "print(decode_vec(v_unk, w2v))"
   ]
  },
  {
   "cell_type": "code",
   "execution_count": 231,
   "metadata": {},
   "outputs": [],
   "source": [
    "def prepare_song(song, buffer_length):\n",
    "    tokens = song\n",
    "\n",
    "    x_train = []\n",
    "    y_train = []\n",
    "    for i in range(0, len(song)):\n",
    "        if i+buffer_length+1 >= len(tokens):\n",
    "            pad_length = (i+buffer_length+1) - len(tokens)\n",
    "            tokens += ['<pad>'] * pad_length\n",
    "\n",
    "        x_train.append(tokens[i:i+buffer_length])\n",
    "        y_train.append(tokens[i+buffer_length])\n",
    "\n",
    "    return x_train,y_train"
   ]
  },
  {
   "cell_type": "code",
   "execution_count": 232,
   "metadata": {},
   "outputs": [],
   "source": [
    "token_vocab = {'<pad>', '<unk>'}\n",
    "songs = []\n",
    "with open(\"sentences.txt\", \"r\") as f:\n",
    "    for line in f.readlines():\n",
    "        tokens = [token for token in line.rstrip().split(\" \")]\n",
    "        songs.append(tokens)\n",
    "        token_vocab = token_vocab.union(set(tokens))"
   ]
  },
  {
   "cell_type": "code",
   "execution_count": 233,
   "metadata": {},
   "outputs": [
    {
     "name": "stdout",
     "output_type": "stream",
     "text": [
      "Vocab size: 5111\n",
      "W2V vocab size: 400000\n"
     ]
    }
   ],
   "source": [
    "words = list(token_vocab)\n",
    "vocab_size = len(words)\n",
    "print(\"Vocab size:\", vocab_size)\n",
    "print(\"W2V vocab size:\", len(w2v.vocab))\n",
    "word2idx = { word:i for i,word in enumerate(words) }\n",
    "idx2word = { i:word for i,word in enumerate(words) }"
   ]
  },
  {
   "cell_type": "code",
   "execution_count": 234,
   "metadata": {},
   "outputs": [],
   "source": [
    "def one_hot_encode(word, word2idx):\n",
    "    v = np.zeros((len(word2idx, )))\n",
    "    v[word2idx[word]] = 1\n",
    "    return v\n",
    "\n",
    "def one_hot_decode(word, idx2word):\n",
    "    return idx2word[np.argmax(word)]"
   ]
  },
  {
   "cell_type": "code",
   "execution_count": 235,
   "metadata": {},
   "outputs": [
    {
     "name": "stdout",
     "output_type": "stream",
     "text": [
      "4886\n",
      "4886\n"
     ]
    }
   ],
   "source": [
    "print(word2idx[\"hello\"])\n",
    "print(np.argmax(one_hot_encode(\"hello\", word2idx)))"
   ]
  },
  {
   "cell_type": "code",
   "execution_count": 236,
   "metadata": {},
   "outputs": [
    {
     "name": "stdout",
     "output_type": "stream",
     "text": [
      "114929\n",
      "['look', 'at', 'her', 'face']\n"
     ]
    }
   ],
   "source": [
    "x_vec = []\n",
    "y_vec = []\n",
    "for song in songs:\n",
    "    x_vec_i, y_vec_i = prepare_song(song, SEQUENCE_LENGTH)\n",
    "    x_vec.extend(x_vec_i)\n",
    "    y_vec.extend(y_vec_i)\n",
    "print(len(x_vec))\n",
    "print(x_vec[0])"
   ]
  },
  {
   "cell_type": "code",
   "execution_count": 237,
   "metadata": {},
   "outputs": [],
   "source": [
    "from random import shuffle\n",
    "def generate_batches(data_length, mini_batch_size):\n",
    "    for begin in range(0, data_length, mini_batch_size):\n",
    "        end = min(begin + mini_batch_size, data_length)\n",
    "        yield begin, end\n",
    "\n",
    "def load_batch(xs, ys, begin, end):\n",
    "    batch_size = end-begin\n",
    "    \n",
    "    x_train = np.zeros((batch_size, SEQUENCE_LENGTH, EMBEDDING_SIZE))\n",
    "    y_train = np.zeros((batch_size, vocab_size))\n",
    "    \n",
    "    xs_batch = xs[begin:end]\n",
    "    ys_batch = ys[begin:end]\n",
    "    for i in range(batch_size):\n",
    "        x_train[i] = encode_words(xs_batch[i], w2v)\n",
    "        y_train[i] = one_hot_encode(ys_batch[i], word2idx)\n",
    "    \n",
    "    return x_train, y_train"
   ]
  },
  {
   "cell_type": "code",
   "execution_count": 238,
   "metadata": {},
   "outputs": [
    {
     "name": "stdout",
     "output_type": "stream",
     "text": [
      "(512, 4, 103) (512, 5111)\n",
      "X train\n",
      "look at her face\n",
      "at her face ,\n",
      "her face , it\n",
      "face , it 's\n",
      ", it 's a\n",
      "it 's a wonderful\n",
      "'s a wonderful face\n",
      "a wonderful face <newline>\n",
      "wonderful face <newline> and\n",
      "face <newline> and it\n",
      "\n",
      "Y train\n",
      ",\n",
      "it\n",
      "'s\n",
      "a\n",
      "wonderful\n",
      "face\n",
      "<newline>\n",
      "and\n",
      "it\n",
      "means\n"
     ]
    }
   ],
   "source": [
    "batches = generate_batches(len(x_vec), 512)\n",
    "begin, end = next(batches)\n",
    "\n",
    "x_train, y_train = load_batch(x_vec, y_vec, begin, end)\n",
    "print(x_train.shape, y_train.shape)\n",
    "\n",
    "print(\"X train\")\n",
    "for j in range(10):\n",
    "    ws = ' '.join([decode_vec(x_train[j][i], w2v) for i in range(SEQUENCE_LENGTH)])\n",
    "    print(ws)\n",
    "    \n",
    "print(\"\\nY train\")\n",
    "for j in range(10):\n",
    "    print(one_hot_decode(y_train[j], idx2word))"
   ]
  },
  {
   "cell_type": "code",
   "execution_count": 241,
   "metadata": {},
   "outputs": [],
   "source": [
    "from keras.models import Sequential, load_model\n",
    "from keras.layers import Dense, LSTM, Embedding, Dropout, Bidirectional\n",
    "def build_model(vocab_size):\n",
    "    model = Sequential()\n",
    "    model.add(LSTM(128, input_shape=(SEQUENCE_LENGTH, EMBEDDING_SIZE), return_sequences=True))\n",
    "    model.add(Dropout(0.2))\n",
    "    model.add(Bidirectional(LSTM(1024)))\n",
    "    model.add(Dropout(0.2))\n",
    "    model.add(Dense(vocab_size, activation='softmax'))\n",
    "    model.compile(loss = 'categorical_crossentropy', optimizer=\"adam\", metrics = ['accuracy'])\n",
    "    return model\n",
    "model = build_model(vocab_size)"
   ]
  },
  {
   "cell_type": "code",
   "execution_count": 242,
   "metadata": {},
   "outputs": [
    {
     "name": "stdout",
     "output_type": "stream",
     "text": [
      "224.470703125\n",
      "Epoch 1/10\n",
      "512/512 [==============================] - 2s 4ms/step - loss: 8.4023 - accuracy: 0.0801\n",
      "Epoch 2/10\n",
      "512/512 [==============================] - 1s 2ms/step - loss: 6.5219 - accuracy: 0.1113\n",
      "Epoch 3/10\n",
      "512/512 [==============================] - 1s 2ms/step - loss: 4.7103 - accuracy: 0.0664\n",
      "Epoch 4/10\n",
      "512/512 [==============================] - 1s 2ms/step - loss: 4.5463 - accuracy: 0.0254\n",
      "Epoch 5/10\n",
      "512/512 [==============================] - 1s 2ms/step - loss: 4.3643 - accuracy: 0.0781\n",
      "Epoch 6/10\n",
      "512/512 [==============================] - 1s 2ms/step - loss: 4.2246 - accuracy: 0.1113\n",
      "Epoch 7/10\n",
      "512/512 [==============================] - 1s 2ms/step - loss: 4.1796 - accuracy: 0.1113\n",
      "Epoch 8/10\n",
      "512/512 [==============================] - 1s 2ms/step - loss: 4.1252 - accuracy: 0.1113\n",
      "Epoch 9/10\n",
      "512/512 [==============================] - 1s 2ms/step - loss: 4.0863 - accuracy: 0.1230\n",
      "Epoch 10/10\n",
      "512/512 [==============================] - 1s 2ms/step - loss: 4.0272 - accuracy: 0.1133\n",
      "Epoch 1/10\n",
      "512/512 [==============================] - 1s 2ms/step - loss: 7.6428 - accuracy: 0.0840\n",
      "Epoch 2/10\n",
      "512/512 [==============================] - 1s 2ms/step - loss: 6.8788 - accuracy: 0.0469\n",
      "Epoch 3/10\n",
      "512/512 [==============================] - 1s 2ms/step - loss: 5.7517 - accuracy: 0.0820\n",
      "Epoch 4/10\n",
      "512/512 [==============================] - 1s 2ms/step - loss: 4.9434 - accuracy: 0.0977\n",
      "Epoch 5/10\n",
      "512/512 [==============================] - 1s 2ms/step - loss: 4.4519 - accuracy: 0.1016\n",
      "Epoch 6/10\n",
      "512/512 [==============================] - 1s 2ms/step - loss: 4.2525 - accuracy: 0.1152\n",
      "Epoch 7/10\n",
      "512/512 [==============================] - 1s 2ms/step - loss: 4.0806 - accuracy: 0.1387\n",
      "Epoch 8/10\n",
      "512/512 [==============================] - 1s 2ms/step - loss: 4.0017 - accuracy: 0.1465\n",
      "Epoch 9/10\n",
      "512/512 [==============================] - 1s 2ms/step - loss: 3.9006 - accuracy: 0.1582\n",
      "Epoch 10/10\n",
      "512/512 [==============================] - 1s 2ms/step - loss: 3.8130 - accuracy: 0.1484\n",
      "Epoch 1/10\n",
      "512/512 [==============================] - 1s 2ms/step - loss: 5.9780 - accuracy: 0.1270\n",
      "Epoch 2/10\n",
      "512/512 [==============================] - 1s 2ms/step - loss: 5.1990 - accuracy: 0.1113\n",
      "Epoch 3/10\n",
      "512/512 [==============================] - 1s 2ms/step - loss: 4.8095 - accuracy: 0.1074\n",
      "Epoch 4/10\n",
      "512/512 [==============================] - 1s 2ms/step - loss: 4.4243 - accuracy: 0.1250\n",
      "Epoch 5/10\n",
      "512/512 [==============================] - 1s 2ms/step - loss: 4.0525 - accuracy: 0.1270\n",
      "Epoch 6/10\n",
      "512/512 [==============================] - 1s 2ms/step - loss: 3.8195 - accuracy: 0.1328\n",
      "Epoch 7/10\n",
      "512/512 [==============================] - 1s 2ms/step - loss: 3.6350 - accuracy: 0.1582\n",
      "Epoch 8/10\n",
      "512/512 [==============================] - 1s 2ms/step - loss: 3.4485 - accuracy: 0.1660\n",
      "Epoch 9/10\n",
      "512/512 [==============================] - 1s 2ms/step - loss: 3.2702 - accuracy: 0.2148\n",
      "Epoch 10/10\n",
      "512/512 [==============================] - 1s 2ms/step - loss: 3.0773 - accuracy: 0.2305\n",
      "Epoch 1/10\n",
      "512/512 [==============================] - 1s 2ms/step - loss: 8.2555 - accuracy: 0.0488\n",
      "Epoch 2/10\n",
      "512/512 [==============================] - 1s 2ms/step - loss: 6.5451 - accuracy: 0.0820\n",
      "Epoch 3/10\n",
      "512/512 [==============================] - 1s 2ms/step - loss: 5.6503 - accuracy: 0.1230\n",
      "Epoch 4/10\n",
      "512/512 [==============================] - 1s 2ms/step - loss: 4.8204 - accuracy: 0.1133\n",
      "Epoch 5/10\n",
      "512/512 [==============================] - 1s 2ms/step - loss: 4.5728 - accuracy: 0.1250\n",
      "Epoch 6/10\n",
      "512/512 [==============================] - 1s 2ms/step - loss: 4.2602 - accuracy: 0.1230\n",
      "Epoch 7/10\n",
      "512/512 [==============================] - 1s 2ms/step - loss: 4.0701 - accuracy: 0.1523\n",
      "Epoch 8/10\n",
      "512/512 [==============================] - 1s 2ms/step - loss: 3.8247 - accuracy: 0.1602\n",
      "Epoch 9/10\n",
      "512/512 [==============================] - 1s 2ms/step - loss: 3.5767 - accuracy: 0.1914\n",
      "Epoch 10/10\n",
      "512/512 [==============================] - 1s 2ms/step - loss: 3.2984 - accuracy: 0.2148\n"
     ]
    }
   ],
   "source": [
    "batches = generate_batches(len(x_vec), 512)\n",
    "print(len(x_vec) / 512)\n",
    "for i in range(4):\n",
    "    begin, end = next(batches)\n",
    "    x_train, y_train = load_batch(x_vec, y_vec, begin, end)\n",
    "    model.fit(x_train, y_train, batch_size=128, epochs=10)"
   ]
  },
  {
   "cell_type": "code",
   "execution_count": 244,
   "metadata": {},
   "outputs": [
    {
     "name": "stdout",
     "output_type": "stream",
     "text": [
      "look at her face <newline> <newline> <newline> <newline> oh peace peace now <pad> would would you to you to <newline> words <newline> we the <newline> the <newline> <newline> <newline> <newline> oh peace peace now <pad> would would you to you to <newline> words <newline> we the <newline> the <newline> <newline> <newline> <newline> oh peace peace now <pad> would would you to you to <newline>\n"
     ]
    }
   ],
   "source": [
    "words = [\"look\", \"at\", \"her\", \"face\"]\n",
    "#words = [\"do\", \"better\", \",\", \"who\", \"better\", \"?\", \"<newline>\", \"you\"]\n",
    "words_seq = encode_words(words, w2v)\n",
    "words_seq = words_seq.reshape(1, SEQUENCE_LENGTH, EMBEDDING_SIZE)\n",
    "#print(' '.join([decode_vec(words[0][i], w2v) for i in range(SEQUENCE_LENGTH)]))\n",
    "\n",
    "result = words\n",
    "for j in range(60):\n",
    "    word = one_hot_decode(model.predict(words_seq), idx2word)\n",
    "    result.append(word)\n",
    "    \n",
    "    new_words = np.zeros((1, SEQUENCE_LENGTH, EMBEDDING_SIZE))\n",
    "    for i in range(SEQUENCE_LENGTH-1):\n",
    "        new_words[0, i] = words_seq[0, i+1]\n",
    "    new_words[0, SEQUENCE_LENGTH-1] = encode_word(word, w2v)\n",
    "    words_seq = new_words\n",
    "\n",
    "#print(' '.join([decode_vec(words[0][i], w2v) for i in range(SEQUENCE_LENGTH)]))\n",
    " \n",
    "print(' '.join(result))\n",
    "    #words = new_words\n",
    "        #new_words[0] = words[0, 1]\n",
    "        #new_words[0, 1] = words[0, 2]\n",
    "        #new_words[0, 2] = words[0, 3]\n",
    "        #new_words[0, 3] = encode_word(word, word2idx)\n",
    "    "
   ]
  },
  {
   "cell_type": "code",
   "execution_count": null,
   "metadata": {},
   "outputs": [],
   "source": []
  },
  {
   "cell_type": "code",
   "execution_count": null,
   "metadata": {},
   "outputs": [],
   "source": []
  }
 ],
 "metadata": {
  "kernelspec": {
   "display_name": "Python 3",
   "language": "python",
   "name": "python3"
  },
  "language_info": {
   "codemirror_mode": {
    "name": "ipython",
    "version": 3
   },
   "file_extension": ".py",
   "mimetype": "text/x-python",
   "name": "python",
   "nbconvert_exporter": "python",
   "pygments_lexer": "ipython3",
   "version": "3.6.9"
  }
 },
 "nbformat": 4,
 "nbformat_minor": 2
}
