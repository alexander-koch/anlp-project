{
 "cells": [
  {
   "cell_type": "markdown",
   "metadata": {},
   "source": [
    "## Build vocab"
   ]
  },
  {
   "cell_type": "code",
   "execution_count": 73,
   "metadata": {},
   "outputs": [],
   "source": [
    "SEQUENCE_LENGTH = 8"
   ]
  },
  {
   "cell_type": "code",
   "execution_count": 74,
   "metadata": {},
   "outputs": [
    {
     "data": {
      "text/html": [
       "<div>\n",
       "<style scoped>\n",
       "    .dataframe tbody tr th:only-of-type {\n",
       "        vertical-align: middle;\n",
       "    }\n",
       "\n",
       "    .dataframe tbody tr th {\n",
       "        vertical-align: top;\n",
       "    }\n",
       "\n",
       "    .dataframe thead th {\n",
       "        text-align: right;\n",
       "    }\n",
       "</style>\n",
       "<table border=\"1\" class=\"dataframe\">\n",
       "  <thead>\n",
       "    <tr style=\"text-align: right;\">\n",
       "      <th></th>\n",
       "      <th>artist</th>\n",
       "      <th>song</th>\n",
       "      <th>link</th>\n",
       "      <th>text</th>\n",
       "    </tr>\n",
       "  </thead>\n",
       "  <tbody>\n",
       "    <tr>\n",
       "      <th>0</th>\n",
       "      <td>ABBA</td>\n",
       "      <td>Ahe's My Kind Of Girl</td>\n",
       "      <td>/a/abba/ahes+my+kind+of+girl_20598417.html</td>\n",
       "      <td>Look at her face, it's a wonderful face  \\nAnd...</td>\n",
       "    </tr>\n",
       "    <tr>\n",
       "      <th>1</th>\n",
       "      <td>ABBA</td>\n",
       "      <td>Andante, Andante</td>\n",
       "      <td>/a/abba/andante+andante_20002708.html</td>\n",
       "      <td>Take it easy with me, please  \\nTouch me gentl...</td>\n",
       "    </tr>\n",
       "    <tr>\n",
       "      <th>2</th>\n",
       "      <td>ABBA</td>\n",
       "      <td>As Good As New</td>\n",
       "      <td>/a/abba/as+good+as+new_20003033.html</td>\n",
       "      <td>I'll never know why I had to go  \\nWhy I had t...</td>\n",
       "    </tr>\n",
       "    <tr>\n",
       "      <th>3</th>\n",
       "      <td>ABBA</td>\n",
       "      <td>Bang</td>\n",
       "      <td>/a/abba/bang_20598415.html</td>\n",
       "      <td>Making somebody happy is a question of give an...</td>\n",
       "    </tr>\n",
       "    <tr>\n",
       "      <th>4</th>\n",
       "      <td>ABBA</td>\n",
       "      <td>Bang-A-Boomerang</td>\n",
       "      <td>/a/abba/bang+a+boomerang_20002668.html</td>\n",
       "      <td>Making somebody happy is a question of give an...</td>\n",
       "    </tr>\n",
       "  </tbody>\n",
       "</table>\n",
       "</div>"
      ],
      "text/plain": [
       "  artist                   song                                        link  \\\n",
       "0   ABBA  Ahe's My Kind Of Girl  /a/abba/ahes+my+kind+of+girl_20598417.html   \n",
       "1   ABBA       Andante, Andante       /a/abba/andante+andante_20002708.html   \n",
       "2   ABBA         As Good As New        /a/abba/as+good+as+new_20003033.html   \n",
       "3   ABBA                   Bang                  /a/abba/bang_20598415.html   \n",
       "4   ABBA       Bang-A-Boomerang      /a/abba/bang+a+boomerang_20002668.html   \n",
       "\n",
       "                                                text  \n",
       "0  Look at her face, it's a wonderful face  \\nAnd...  \n",
       "1  Take it easy with me, please  \\nTouch me gentl...  \n",
       "2  I'll never know why I had to go  \\nWhy I had t...  \n",
       "3  Making somebody happy is a question of give an...  \n",
       "4  Making somebody happy is a question of give an...  "
      ]
     },
     "execution_count": 74,
     "metadata": {},
     "output_type": "execute_result"
    }
   ],
   "source": [
    "import pandas as pd\n",
    "df = pd.read_csv(\"data/songdata.zip\")\n",
    "df.head()"
   ]
  },
  {
   "cell_type": "code",
   "execution_count": 75,
   "metadata": {},
   "outputs": [
    {
     "name": "stdout",
     "output_type": "stream",
     "text": [
      "Loaded from file\n",
      "Vocab size: 76\n"
     ]
    }
   ],
   "source": [
    "from pathlib import Path\n",
    "import util\n",
    "\n",
    "path = Path(\"chars.pkl\")\n",
    "chars = list()\n",
    "if path.is_file():\n",
    "    chars = util.load_vocab(path)\n",
    "    print(\"Loaded from file\")\n",
    "else:\n",
    "    vocab = set()\n",
    "    for song in df[\"text\"]:\n",
    "        chars = set(song)\n",
    "        vocab = vocab.union(chars)\n",
    "    chars = list(vocab)\n",
    "    util.write_vocab(path, chars)\n",
    "    print(\"Generated from source\")\n",
    "    \n",
    "vocab_size = len(chars)\n",
    "print(\"Vocab size:\", vocab_size)"
   ]
  },
  {
   "cell_type": "code",
   "execution_count": 76,
   "metadata": {},
   "outputs": [],
   "source": [
    "char2idx = { char:i for i,char in enumerate(chars) }\n",
    "idx2char = { i:char for i,char in enumerate(chars) }"
   ]
  },
  {
   "cell_type": "code",
   "execution_count": 77,
   "metadata": {},
   "outputs": [
    {
     "name": "stdout",
     "output_type": "stream",
     "text": [
      "Total number of songs: 57650\n",
      "Number of songs for training: 40355\n",
      "Number of songs for dev/test: 8647\n"
     ]
    }
   ],
   "source": [
    "song_count = len(df['text'])\n",
    "train_size = int(song_count * 0.7)\n",
    "test_dev_size = int((song_count - train_size) * 0.5)\n",
    "print(\"Total number of songs:\", song_count)\n",
    "print(\"Number of songs for training:\", train_size)\n",
    "print(\"Number of songs for dev/test:\", test_dev_size)"
   ]
  },
  {
   "cell_type": "code",
   "execution_count": 78,
   "metadata": {},
   "outputs": [
    {
     "name": "stdout",
     "output_type": "stream",
     "text": [
      "Train: 40355\n",
      "Dev: 8647\n",
      "Test: 8648\n"
     ]
    }
   ],
   "source": [
    "df = df.sample(frac=1).reset_index(drop=True)\n",
    "songs_train = df['text'][:train_size].reset_index(drop=True)\n",
    "songs_dev = df['text'][train_size:train_size+test_dev_size].reset_index(drop=True)\n",
    "songs_test = df['text'][train_size+test_dev_size:].reset_index(drop=True)\n",
    "print(\"Train:\", len(songs_train))\n",
    "print(\"Dev:\", len(songs_dev))\n",
    "print(\"Test:\", len(songs_test))"
   ]
  },
  {
   "cell_type": "markdown",
   "metadata": {},
   "source": [
    "## Build model"
   ]
  },
  {
   "cell_type": "code",
   "execution_count": 91,
   "metadata": {},
   "outputs": [
    {
     "name": "stdout",
     "output_type": "stream",
     "text": [
      "Model: \"sequential_20\"\n",
      "_________________________________________________________________\n",
      "Layer (type)                 Output Shape              Param #   \n",
      "=================================================================\n",
      "lstm_28 (LSTM)               (None, 512)               1206272   \n",
      "_________________________________________________________________\n",
      "dropout_27 (Dropout)         (None, 512)               0         \n",
      "_________________________________________________________________\n",
      "dense_19 (Dense)             (None, 76)                38988     \n",
      "=================================================================\n",
      "Total params: 1,245,260\n",
      "Trainable params: 1,245,260\n",
      "Non-trainable params: 0\n",
      "_________________________________________________________________\n"
     ]
    }
   ],
   "source": [
    "from keras.models import Sequential\n",
    "from keras.layers import Dense, LSTM, Embedding, Dropout, GRU, Bidirectional\n",
    "from keras.layers import LeakyReLU\n",
    "from pathlib import Path\n",
    "from keras.callbacks import Callback\n",
    "from keras.callbacks import ModelCheckpoint\n",
    "from keras.optimizers import RMSprop\n",
    "\n",
    "checkpoint = ModelCheckpoint(\"weights_char_{epoch:01d}.h5\",\n",
    "    monitor='loss',\n",
    "    verbose=1,\n",
    "    mode='auto',\n",
    "    period=1,\n",
    "    save_weights_only=True)\n",
    "\n",
    "class LossHistory(Callback):\n",
    "    def on_train_begin(self, logs={}):\n",
    "        self.losses = []\n",
    "\n",
    "    def on_batch_end(self, batch, logs={}):\n",
    "        self.losses.append(logs.get('loss'))\n",
    "\n",
    "def build_model(vocab_size):\n",
    "    model = Sequential()\n",
    "    model.add(LSTM(512, input_shape=(SEQUENCE_LENGTH, vocab_size)))\n",
    "    model.add(Dropout(0.4))\n",
    "    #model.add(LeakyReLU(alpha=0.1))\n",
    "    model.add(Dense(vocab_size, activation='softmax'))\n",
    "    model.compile(loss = 'categorical_crossentropy', optimizer=\"rmsprop\", metrics = ['accuracy'])\n",
    "    return model\n",
    "\n",
    "model = build_model(vocab_size)\n",
    "model.summary()"
   ]
  },
  {
   "cell_type": "markdown",
   "metadata": {},
   "source": [
    "## Generate samples and fit"
   ]
  },
  {
   "cell_type": "code",
   "execution_count": 92,
   "metadata": {},
   "outputs": [],
   "source": [
    "def build_samples(song, buffer_length):\n",
    "    tokens = song\n",
    "\n",
    "    x_train = []\n",
    "    y_train = []\n",
    "    for i in range(0, len(song)):\n",
    "        if i+buffer_length+1 >= len(tokens):\n",
    "            continue\n",
    "            \n",
    "        x_train.append(tokens[i:i+buffer_length])\n",
    "        y_train.append(tokens[i+buffer_length])\n",
    "\n",
    "    return x_train,y_train"
   ]
  },
  {
   "cell_type": "code",
   "execution_count": 93,
   "metadata": {},
   "outputs": [
    {
     "name": "stderr",
     "output_type": "stream",
     "text": [
      "/home/alex/.local/lib/python3.6/site-packages/ipykernel_launcher.py:39: UserWarning: Update your `fit_generator` call to the Keras 2 API: `fit_generator(<generator..., epochs=10, callbacks=[<__main__..., steps_per_epoch=300)`\n"
     ]
    },
    {
     "name": "stdout",
     "output_type": "stream",
     "text": [
      "Epoch 1/10\n",
      "300/300 [==============================] - 20s 66ms/step - loss: 2.8362 - accuracy: 0.2635\n",
      "\n",
      "Epoch 00001: saving model to weights_char_1.h5\n",
      "Epoch 2/10\n",
      "300/300 [==============================] - 20s 68ms/step - loss: 2.3146 - accuracy: 0.3685\n",
      "\n",
      "Epoch 00002: saving model to weights_char_2.h5\n",
      "Epoch 3/10\n",
      "300/300 [==============================] - 21s 70ms/step - loss: 2.1057 - accuracy: 0.4160\n",
      "\n",
      "Epoch 00003: saving model to weights_char_3.h5\n",
      "Epoch 4/10\n",
      "300/300 [==============================] - 23s 77ms/step - loss: 2.0272 - accuracy: 0.4406\n",
      "\n",
      "Epoch 00004: saving model to weights_char_4.h5\n",
      "Epoch 5/10\n",
      "300/300 [==============================] - 24s 80ms/step - loss: 1.9037 - accuracy: 0.4652\n",
      "\n",
      "Epoch 00005: saving model to weights_char_5.h5\n",
      "Epoch 6/10\n",
      "300/300 [==============================] - 25s 84ms/step - loss: 1.8155 - accuracy: 0.4893\n",
      "\n",
      "Epoch 00006: saving model to weights_char_6.h5\n",
      "Epoch 7/10\n",
      "300/300 [==============================] - 26s 87ms/step - loss: 1.8328 - accuracy: 0.4861\n",
      "\n",
      "Epoch 00007: saving model to weights_char_7.h5\n",
      "Epoch 8/10\n",
      "300/300 [==============================] - 27s 89ms/step - loss: 1.7223 - accuracy: 0.5109\n",
      "\n",
      "Epoch 00008: saving model to weights_char_8.h5\n",
      "Epoch 9/10\n",
      "300/300 [==============================] - 28s 92ms/step - loss: 1.7917 - accuracy: 0.5017\n",
      "\n",
      "Epoch 00009: saving model to weights_char_9.h5\n",
      "Epoch 10/10\n",
      "300/300 [==============================] - 28s 93ms/step - loss: 1.6971 - accuracy: 0.5193\n",
      "\n",
      "Epoch 00010: saving model to weights_char_10.h5\n"
     ]
    },
    {
     "data": {
      "text/plain": [
       "<keras.callbacks.callbacks.History at 0x7fb92b576198>"
      ]
     },
     "execution_count": 93,
     "metadata": {},
     "output_type": "execute_result"
    }
   ],
   "source": [
    "import math\n",
    "from random import shuffle\n",
    "import numpy as np\n",
    "\n",
    "batch_size = 256\n",
    "history = LossHistory()\n",
    "\n",
    "def generate_batches(songs, batch_size):\n",
    "    x_train, y_train = [], []\n",
    "    for song in songs:\n",
    "        xs, ys = build_samples(song, SEQUENCE_LENGTH)\n",
    "        x_train.extend(xs)\n",
    "        y_train.extend(ys)\n",
    "        if len(x_train) >= batch_size:\n",
    "            yield x_train[0:batch_size], y_train[0:batch_size]\n",
    "            x_train = x_train[batch_size:]\n",
    "            y_train = y_train[batch_size:]\n",
    "    if len(x_train) > 0:\n",
    "        yield x_train, y_train\n",
    "\n",
    "def generate_samples(songs, batch_size):\n",
    "    while True:\n",
    "        batches = generate_batches(songs, batch_size)\n",
    "        for xs_batch, ys_batch in batches:\n",
    "            c = list(zip(xs_batch, ys_batch))\n",
    "            shuffle(c)\n",
    "            xs_batch, ys_batch = zip(*c)\n",
    "\n",
    "            batch_size = len(xs_batch)\n",
    "            x_train = np.zeros((batch_size, SEQUENCE_LENGTH, vocab_size))\n",
    "            y_train = np.zeros((batch_size, vocab_size))\n",
    "\n",
    "            for i in range(batch_size):\n",
    "                x_train[i] = util.one_hot_encode_sequence(xs_batch[i], char2idx)\n",
    "                y_train[i] = util.one_hot_encode(ys_batch[i], char2idx)\n",
    "\n",
    "            yield x_train, y_train\n",
    "\n",
    "model.fit_generator(generate_samples(songs_train, batch_size), samples_per_epoch=300, epochs=10, callbacks=[history, checkpoint])"
   ]
  },
  {
   "cell_type": "markdown",
   "metadata": {},
   "source": [
    "## Model evaluation"
   ]
  },
  {
   "cell_type": "code",
   "execution_count": 94,
   "metadata": {},
   "outputs": [
    {
     "data": {
      "image/png": "[encoded data removed]",
      "text/plain": [
       "<Figure size 432x288 with 1 Axes>"
      ]
     },
     "metadata": {
      "needs_background": "light"
     },
     "output_type": "display_data"
    }
   ],
   "source": [
    "import matplotlib.pyplot as plt\n",
    "plt.plot(history.losses)\n",
    "plt.title('Model loss')\n",
    "plt.ylabel('Loss')\n",
    "plt.xlabel('Batch')\n",
    "plt.show()"
   ]
  },
  {
   "cell_type": "code",
   "execution_count": 95,
   "metadata": {},
   "outputs": [
    {
     "name": "stdout",
     "output_type": "stream",
     "text": [
      "i like the clouds  \n",
      "  \n",
      "Acrumaw be  \n",
      "  \n",
      "M besace I'n  \n",
      "Ole planm if horlm  \n",
      "And you  \n",
      "His, I levellen't oht  \n",
      "Sailin'  \n",
      "I gon tell I dake be the fetry merores foom  \n",
      "I dan't that I cave atdo sone re in steall  \n",
      "You reell you whet to glwepts,  \n",
      "The loge in baby, chpssedbaring  \n",
      "fore  \n",
      "none wherea houn, sheer a comotho \n",
      "e  \n",
      "Mare  \n",
      "  \n",
      "onhings whot meally sto buck tome, ut the for your ondstse lear'en' me to the lock we know Shaide monitz  \n",
      "  \n",
      "I list gord in she mart.  \n",
      "  \n",
      "Jasttcr thur my horty  \n",
      "I kiop that yautl I somea,,  \n",
      "But best oull kist itpre yrubnexve's in  \n",
      "Tame  \n",
      "Where diis  \n",
      "And this lot your eest 'tes  \n",
      "Wime it  \n",
      "Where and for you  \n",
      "And I cond ond whan a amain  \n",
      "  \n",
      "It get a sicet'  \n",
      "'s awley  \n",
      "Bat ya\n"
     ]
    }
   ],
   "source": [
    "from sampler import CharacterSampler\n",
    "sampler = CharacterSampler(model, chars, SEQUENCE_LENGTH)\n",
    "print(''.join(sampler.sample(\"i like the clouds\", 700)))"
   ]
  },
  {
   "cell_type": "code",
   "execution_count": 96,
   "metadata": {},
   "outputs": [],
   "source": [
    "x_dev, y_dev = [], []\n",
    "for song in songs_dev:\n",
    "    xs, ys = build_samples(song, SEQUENCE_LENGTH)\n",
    "    x_dev.extend(xs)\n",
    "    y_dev.extend(ys)"
   ]
  },
  {
   "cell_type": "code",
   "execution_count": 135,
   "metadata": {},
   "outputs": [
    {
     "name": "stdout",
     "output_type": "stream",
     "text": [
      "Perpl: 5.766757731019677\n",
      "Perpl: 6.578805441205264\n",
      "Perpl: 5.72619190358142\n",
      "Perpl: 5.363479884015196\n",
      "Avg perpl: 5.858808739955389\n"
     ]
    }
   ],
   "source": [
    "devset = list(zip(x_dev, y_dev))\n",
    "shuffle(devset)\n",
    "avg_perplexity = 0\n",
    "buffer_length = 1000\n",
    "idx = 0\n",
    "\n",
    "for i in range(4):\n",
    "\n",
    "    perplexity = 0.0\n",
    "    for x, y in devset[idx:idx+buffer_length]:\n",
    "        enc_seq = util.one_hot_encode_sequence(x, char2idx).reshape(1, SEQUENCE_LENGTH, vocab_size)\n",
    "        preds = model.predict(enc_seq)\n",
    "\n",
    "        likelihood = preds[0][char2idx[y]]\n",
    "        perplexity += np.log2(likelihood)\n",
    "        \n",
    "    perplexity = np.power(2, perplexity * -1/buffer_length)\n",
    "    print(\"Perpl:\", perplexity)\n",
    "    avg_perplexity += perplexity\n",
    "    idx += buffer_length\n",
    "\n",
    "print(\"Avg perpl:\", avg_perplexity / 4)"
   ]
  },
  {
   "cell_type": "code",
   "execution_count": null,
   "metadata": {},
   "outputs": [],
   "source": []
  }
 ],
 "metadata": {
  "kernelspec": {
   "display_name": "Python 3",
   "language": "python",
   "name": "python3"
  },
  "language_info": {
   "codemirror_mode": {
    "name": "ipython",
    "version": 3
   },
   "file_extension": ".py",
   "mimetype": "text/x-python",
   "name": "python",
   "nbconvert_exporter": "python",
   "pygments_lexer": "ipython3",
   "version": "3.6.9"
  }
 },
 "nbformat": 4,
 "nbformat_minor": 2
}
