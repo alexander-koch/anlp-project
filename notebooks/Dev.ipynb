{
 "cells": [
  {
   "cell_type": "markdown",
   "metadata": {},
   "source": [
    "## Data preprocessing"
   ]
  },
  {
   "cell_type": "code",
   "execution_count": 4,
   "metadata": {},
   "outputs": [],
   "source": [
    "from gensim.models import KeyedVectors\n",
    "w2v = KeyedVectors.load_word2vec_format('glove.6B.100d.bin.word2vec', binary=True)"
   ]
  },
  {
   "cell_type": "code",
   "execution_count": 5,
   "metadata": {},
   "outputs": [],
   "source": [
    "import numpy as np\n",
    "import util\n",
    "SEQUENCE_LENGTH = 6\n",
    "EMBEDDING_SIZE = 103"
   ]
  },
  {
   "cell_type": "code",
   "execution_count": 6,
   "metadata": {},
   "outputs": [
    {
     "name": "stdout",
     "output_type": "stream",
     "text": [
      "(103,)\n",
      "(103,)\n"
     ]
    }
   ],
   "source": [
    "v = util.encode_word(\"hello\", w2v)\n",
    "print(v.shape)\n",
    "w = util.encode_word(\"boom-a-boomerang\", w2v)\n",
    "print(w.shape)"
   ]
  },
  {
   "cell_type": "code",
   "execution_count": 8,
   "metadata": {},
   "outputs": [
    {
     "name": "stdout",
     "output_type": "stream",
     "text": [
      "101\n",
      "102\n",
      "100\n"
     ]
    }
   ],
   "source": [
    "v_newline = util.encode_word(\"<newline>\", w2v)\n",
    "v_pad = util.encode_word(\"<pad>\", w2v)\n",
    "v_unk = util.encode_word(\"<unk>\", w2v)\n",
    "\n",
    "print(np.argmax(v_newline))\n",
    "print(np.argmax(v_pad))\n",
    "print(np.argmax(v_unk))"
   ]
  },
  {
   "cell_type": "code",
   "execution_count": 11,
   "metadata": {},
   "outputs": [
    {
     "name": "stdout",
     "output_type": "stream",
     "text": [
      "hello\n",
      "<newline>\n",
      "<pad>\n",
      "<unk>\n"
     ]
    }
   ],
   "source": [
    "print(util.decode_vector(v, w2v))\n",
    "print(util.decode_vector(v_newline, w2v))\n",
    "print(util.decode_vector(v_pad, w2v))\n",
    "print(util.decode_vector(v_unk, w2v))"
   ]
  },
  {
   "cell_type": "code",
   "execution_count": 12,
   "metadata": {},
   "outputs": [],
   "source": [
    "def tokenize_song(song, buffer_length):\n",
    "    tokens = song\n",
    "\n",
    "    x_train = []\n",
    "    y_train = []\n",
    "    for i in range(0, len(song)):\n",
    "        if i+buffer_length+1 >= len(tokens):\n",
    "            pad_length = (i+buffer_length+1) - len(tokens)\n",
    "            tokens += ['<pad>'] * pad_length\n",
    "\n",
    "        x_train.append(tokens[i:i+buffer_length])\n",
    "        y_train.append(tokens[i+buffer_length])\n",
    "\n",
    "    return x_train,y_train"
   ]
  },
  {
   "cell_type": "code",
   "execution_count": 13,
   "metadata": {},
   "outputs": [],
   "source": [
    "token_vocab = {'<pad>', '<unk>'}\n",
    "songs = []\n",
    "with open(\"data/sentences.txt\", \"r\") as f:\n",
    "    for line in f.readlines()[:500]:\n",
    "        tokens = [token for token in line.rstrip().split(\" \")]\n",
    "        songs.append(tokens)\n",
    "        token_vocab = token_vocab.union(set(tokens))"
   ]
  },
  {
   "cell_type": "code",
   "execution_count": 14,
   "metadata": {},
   "outputs": [
    {
     "name": "stdout",
     "output_type": "stream",
     "text": [
      "140300\n",
      "['look', 'at', 'her', 'face', ',', 'it']\n"
     ]
    }
   ],
   "source": [
    "x_vec = []\n",
    "y_vec = []\n",
    "for song in songs:\n",
    "    x_vec_i, y_vec_i = tokenize_song(song, SEQUENCE_LENGTH)\n",
    "    x_vec.extend(x_vec_i)\n",
    "    y_vec.extend(y_vec_i)\n",
    "print(len(x_vec))\n",
    "print(x_vec[0])"
   ]
  },
  {
   "cell_type": "code",
   "execution_count": 27,
   "metadata": {},
   "outputs": [
    {
     "name": "stdout",
     "output_type": "stream",
     "text": [
      "Vocab size: 5810\n",
      "W2V vocab size: 400000\n"
     ]
    }
   ],
   "source": [
    "from pathlib import Path\n",
    "        \n",
    "# Read or create vocab path\n",
    "vocab_path = Path(\"vocab.txt\")\n",
    "words = list()\n",
    "if vocab_path.is_file():\n",
    "    words = util.load_vocab(vocab_path, txt=True)   \n",
    "else:\n",
    "    util.write_vocab(vocab_path, token_vocab, txt=True)\n",
    "    words = list(token_vocab)\n",
    "\n",
    "vocab_size = len(words)\n",
    "print(\"Vocab size:\", vocab_size)\n",
    "print(\"W2V vocab size:\", len(w2v.vocab))\n",
    "word2idx = { word:i for i,word in enumerate(words) }\n",
    "idx2word = { i:word for i,word in enumerate(words) }"
   ]
  },
  {
   "cell_type": "code",
   "execution_count": 28,
   "metadata": {},
   "outputs": [
    {
     "name": "stdout",
     "output_type": "stream",
     "text": [
      "1087\n",
      "1087\n"
     ]
    }
   ],
   "source": [
    "print(word2idx[\"hello\"])\n",
    "print(np.argmax(util.one_hot_encode(\"hello\", word2idx)))"
   ]
  },
  {
   "cell_type": "markdown",
   "metadata": {},
   "source": [
    "## Train/Test split"
   ]
  },
  {
   "cell_type": "code",
   "execution_count": 29,
   "metadata": {},
   "outputs": [],
   "source": [
    "from sklearn.model_selection import train_test_split\n",
    "import math\n",
    "\n",
    "# 80% Train, 10% Dev, 10% Test\n",
    "X_train, X_test, Y_train, Y_test = train_test_split(x_vec, y_vec, test_size=0.2)\n",
    "X_dev, X_test, Y_dev, Y_test = train_test_split(X_test, Y_test, test_size=0.5)"
   ]
  },
  {
   "cell_type": "code",
   "execution_count": 30,
   "metadata": {},
   "outputs": [
    {
     "name": "stdout",
     "output_type": "stream",
     "text": [
      "Total size: 140300\n",
      "Training size: 112240\n",
      "Development set size: 14030\n",
      "Test set size: 14030\n"
     ]
    }
   ],
   "source": [
    "print(\"Total size:\", len(x_vec))\n",
    "print(\"Training size:\", len(X_train))\n",
    "print(\"Development set size:\", len(X_dev))\n",
    "print(\"Test set size:\", len(X_test))"
   ]
  },
  {
   "cell_type": "code",
   "execution_count": 31,
   "metadata": {},
   "outputs": [],
   "source": [
    "from random import shuffle\n",
    "\n",
    "def load_batch(xs, ys, begin, end):\n",
    "    batch_size = end-begin\n",
    "    \n",
    "    x_train = np.zeros((batch_size, SEQUENCE_LENGTH, EMBEDDING_SIZE))\n",
    "    y_train = np.zeros((batch_size, vocab_size))\n",
    "    \n",
    "    xs_batch = xs[begin:end]\n",
    "    ys_batch = ys[begin:end]\n",
    "    \n",
    "    c = list(zip(xs_batch, ys_batch))\n",
    "    shuffle(c)\n",
    "    xs_batch, ys_batch = zip(*c)\n",
    "    \n",
    "    for i in range(batch_size):\n",
    "        x_train[i] = util.encode_word_sequence(xs_batch[i], w2v)\n",
    "        y_train[i] = util.one_hot_encode(ys_batch[i], word2idx)\n",
    "    \n",
    "    return x_train, y_train"
   ]
  },
  {
   "cell_type": "code",
   "execution_count": 35,
   "metadata": {},
   "outputs": [
    {
     "name": "stdout",
     "output_type": "stream",
     "text": [
      "(512, 6, 103) (512, 5810)\n",
      "X train\n",
      ", will it be here <newline>\n",
      "country side <newline> ( give me\n",
      "boy cries <newline> this boy cries\n",
      "<newline> se <unk> el tambor fernando\n",
      ", he had it comin '\n",
      "need a girl like an open\n",
      "hambone working fill it <newline> wo\n",
      "we 're trough <newline> like an\n",
      "nor i 'm to blame when\n",
      "one to hold you tight <newline>\n",
      "\n",
      "Y train\n",
      "one\n",
      "the\n",
      "<newline>\n",
      "<newline>\n",
      "<newline>\n",
      "book\n",
      "n't\n",
      "image\n",
      "all\n",
      "i\n"
     ]
    }
   ],
   "source": [
    "batches = util.generate_batches(len(X_train), 512)\n",
    "begin, end = next(batches)\n",
    "\n",
    "x_train, y_train = load_batch(X_train, Y_train, begin, end)\n",
    "print(x_train.shape, y_train.shape)\n",
    "\n",
    "print(\"X train\")\n",
    "for j in range(10):\n",
    "    ws = ' '.join([util.decode_vector(x_train[j][i], w2v) for i in range(SEQUENCE_LENGTH)])\n",
    "    print(ws)\n",
    "    \n",
    "print(\"\\nY train\")\n",
    "for j in range(10):\n",
    "    print(util.one_hot_decode(y_train[j], idx2word))"
   ]
  },
  {
   "cell_type": "markdown",
   "metadata": {},
   "source": [
    "## Machine Learning Time"
   ]
  },
  {
   "cell_type": "code",
   "execution_count": null,
   "metadata": {},
   "outputs": [],
   "source": [
    "from keras.models import Sequential, load_model\n",
    "from keras.layers import Dense, LSTM, Embedding, Dropout, GRU\n",
    "from keras.layers import LeakyReLU\n",
    "def build_model1(vocab_size):\n",
    "    model = Sequential()\n",
    "    model.add(LSTM(128, input_shape=(SEQUENCE_LENGTH, EMBEDDING_SIZE), return_sequences=True))\n",
    "    model.add(Dropout(0.4))\n",
    "    model.add(LSTM(1024))\n",
    "    model.add(Dropout(0.4))\n",
    "    model.add(Dense(2048))\n",
    "    model.add(LeakyReLU(alpha=0.1))\n",
    "    model.add(Dense(vocab_size, activation='softmax'))\n",
    "    model.compile(loss = 'categorical_crossentropy', optimizer=\"adam\", metrics = ['accuracy'])\n",
    "    return model\n",
    "\n",
    "def build_model2(vocab_size):\n",
    "    model = Sequential()\n",
    "    model.add(LSTM(512, input_shape=(SEQUENCE_LENGTH, EMBEDDING_SIZE)))\n",
    "    model.add(Dropout(0.5))\n",
    "    model.add(LeakyReLU(alpha=0.1))\n",
    "    model.add(Dense(vocab_size, activation='softmax'))\n",
    "    model.compile(loss = 'categorical_crossentropy', optimizer=\"adam\", metrics = ['accuracy'])\n",
    "    return model\n",
    "\n",
    "model1 = build_model1(vocab_size)\n",
    "model2 = build_model2(vocab_size)\n",
    "models = [model1, model2]\n",
    "for (i, model) in enumerate(models):\n",
    "    weights_path= Path(f\"weights_model{i+1}.h5\")\n",
    "    if weights_path.is_file():\n",
    "        model.load_weights(weights_path.resolve())"
   ]
  },
  {
   "cell_type": "code",
   "execution_count": 38,
   "metadata": {},
   "outputs": [
    {
     "name": "stdout",
     "output_type": "stream",
     "text": [
      "Batches: 28\n"
     ]
    }
   ],
   "source": [
    "batches = list(util.generate_batches(len(X_train), 4096))\n",
    "shuffle(batches)\n",
    "print(\"Batches:\", len(batches))"
   ]
  },
  {
   "cell_type": "code",
   "execution_count": 39,
   "metadata": {},
   "outputs": [
    {
     "name": "stdout",
     "output_type": "stream",
     "text": [
      "Model: 0\n",
      "WARNING:tensorflow:From /home/alex/.local/lib/python3.6/site-packages/keras/backend/tensorflow_backend.py:422: The name tf.global_variables is deprecated. Please use tf.compat.v1.global_variables instead.\n",
      "\n",
      "Epoch 1/4\n",
      "4096/4096 [==============================] - 5s 1ms/step - loss: 7.0023 - accuracy: 0.0693\n",
      "Epoch 2/4\n",
      "4096/4096 [==============================] - 4s 1ms/step - loss: 5.7358 - accuracy: 0.1096\n",
      "Epoch 3/4\n",
      "4096/4096 [==============================] - 5s 1ms/step - loss: 5.5693 - accuracy: 0.1096\n",
      "Epoch 4/4\n",
      "4096/4096 [==============================] - 5s 1ms/step - loss: 5.5298 - accuracy: 0.1096\n",
      "Epoch 1/4\n",
      "4096/4096 [==============================] - 5s 1ms/step - loss: 6.0760 - accuracy: 0.1194\n",
      "Epoch 2/4\n",
      "4096/4096 [==============================] - 5s 1ms/step - loss: 5.6569 - accuracy: 0.1194\n",
      "Epoch 3/4\n",
      "4096/4096 [==============================] - 5s 1ms/step - loss: 5.4718 - accuracy: 0.1199\n",
      "Epoch 4/4\n",
      "4096/4096 [==============================] - 5s 1ms/step - loss: 5.3466 - accuracy: 0.1279\n",
      "Epoch 1/4\n",
      "4096/4096 [==============================] - 5s 1ms/step - loss: 5.7779 - accuracy: 0.1294\n",
      "Epoch 2/4\n",
      "4096/4096 [==============================] - 5s 1ms/step - loss: 5.3601 - accuracy: 0.1321\n",
      "Epoch 3/4\n",
      "4096/4096 [==============================] - 5s 1ms/step - loss: 5.0758 - accuracy: 0.1323\n",
      "Epoch 4/4\n",
      "4096/4096 [==============================] - 5s 1ms/step - loss: 4.8692 - accuracy: 0.1353\n",
      "Epoch 1/4\n",
      "4096/4096 [==============================] - 5s 1ms/step - loss: 5.7080 - accuracy: 0.1270\n",
      "Epoch 2/4\n",
      "4096/4096 [==============================] - 5s 1ms/step - loss: 5.2036 - accuracy: 0.1343\n",
      "Epoch 3/4\n",
      "4096/4096 [==============================] - 5s 1ms/step - loss: 4.8195 - accuracy: 0.1431\n",
      "Epoch 4/4\n",
      "4096/4096 [==============================] - 5s 1ms/step - loss: 4.5603 - accuracy: 0.1497\n",
      "Epoch 1/4\n",
      "4096/4096 [==============================] - 5s 1ms/step - loss: 5.5587 - accuracy: 0.1541\n",
      "Epoch 2/4\n",
      "4096/4096 [==============================] - 5s 1ms/step - loss: 5.0577 - accuracy: 0.1687\n",
      "Epoch 3/4\n",
      "4096/4096 [==============================] - 5s 1ms/step - loss: 4.6459 - accuracy: 0.1814\n",
      "Epoch 4/4\n",
      " 768/4096 [====>.........................] - ETA: 3s - loss: 4.4093 - accuracy: 0.1641"
     ]
    },
    {
     "ename": "KeyboardInterrupt",
     "evalue": "",
     "output_type": "error",
     "traceback": [
      "\u001b[0;31m---------------------------------------------------------------------------\u001b[0m",
      "\u001b[0;31mKeyboardInterrupt\u001b[0m                         Traceback (most recent call last)",
      "\u001b[0;32m<ipython-input-39-a9873cf8002c>\u001b[0m in \u001b[0;36m<module>\u001b[0;34m\u001b[0m\n\u001b[1;32m      3\u001b[0m     \u001b[0;32mfor\u001b[0m \u001b[0mbegin\u001b[0m\u001b[0;34m,\u001b[0m \u001b[0mend\u001b[0m \u001b[0;32min\u001b[0m \u001b[0mbatches\u001b[0m\u001b[0;34m:\u001b[0m\u001b[0;34m\u001b[0m\u001b[0;34m\u001b[0m\u001b[0m\n\u001b[1;32m      4\u001b[0m         \u001b[0mx_batch\u001b[0m\u001b[0;34m,\u001b[0m \u001b[0my_batch\u001b[0m \u001b[0;34m=\u001b[0m \u001b[0mload_batch\u001b[0m\u001b[0;34m(\u001b[0m\u001b[0mX_train\u001b[0m\u001b[0;34m,\u001b[0m \u001b[0mY_train\u001b[0m\u001b[0;34m,\u001b[0m \u001b[0mbegin\u001b[0m\u001b[0;34m,\u001b[0m \u001b[0mend\u001b[0m\u001b[0;34m)\u001b[0m\u001b[0;34m\u001b[0m\u001b[0;34m\u001b[0m\u001b[0m\n\u001b[0;32m----> 5\u001b[0;31m         \u001b[0mmodel\u001b[0m\u001b[0;34m.\u001b[0m\u001b[0mfit\u001b[0m\u001b[0;34m(\u001b[0m\u001b[0mx_batch\u001b[0m\u001b[0;34m,\u001b[0m \u001b[0my_batch\u001b[0m\u001b[0;34m,\u001b[0m \u001b[0mbatch_size\u001b[0m\u001b[0;34m=\u001b[0m\u001b[0;36m256\u001b[0m\u001b[0;34m,\u001b[0m \u001b[0mepochs\u001b[0m\u001b[0;34m=\u001b[0m\u001b[0;36m4\u001b[0m\u001b[0;34m)\u001b[0m\u001b[0;34m\u001b[0m\u001b[0;34m\u001b[0m\u001b[0m\n\u001b[0m",
      "\u001b[0;32m~/.local/lib/python3.6/site-packages/keras/engine/training.py\u001b[0m in \u001b[0;36mfit\u001b[0;34m(self, x, y, batch_size, epochs, verbose, callbacks, validation_split, validation_data, shuffle, class_weight, sample_weight, initial_epoch, steps_per_epoch, validation_steps, validation_freq, max_queue_size, workers, use_multiprocessing, **kwargs)\u001b[0m\n\u001b[1;32m   1237\u001b[0m                                         \u001b[0msteps_per_epoch\u001b[0m\u001b[0;34m=\u001b[0m\u001b[0msteps_per_epoch\u001b[0m\u001b[0;34m,\u001b[0m\u001b[0;34m\u001b[0m\u001b[0;34m\u001b[0m\u001b[0m\n\u001b[1;32m   1238\u001b[0m                                         \u001b[0mvalidation_steps\u001b[0m\u001b[0;34m=\u001b[0m\u001b[0mvalidation_steps\u001b[0m\u001b[0;34m,\u001b[0m\u001b[0;34m\u001b[0m\u001b[0;34m\u001b[0m\u001b[0m\n\u001b[0;32m-> 1239\u001b[0;31m                                         validation_freq=validation_freq)\n\u001b[0m\u001b[1;32m   1240\u001b[0m \u001b[0;34m\u001b[0m\u001b[0m\n\u001b[1;32m   1241\u001b[0m     def evaluate(self,\n",
      "\u001b[0;32m~/.local/lib/python3.6/site-packages/keras/engine/training_arrays.py\u001b[0m in \u001b[0;36mfit_loop\u001b[0;34m(model, fit_function, fit_inputs, out_labels, batch_size, epochs, verbose, callbacks, val_function, val_inputs, shuffle, initial_epoch, steps_per_epoch, validation_steps, validation_freq)\u001b[0m\n\u001b[1;32m    194\u001b[0m                     \u001b[0mins_batch\u001b[0m\u001b[0;34m[\u001b[0m\u001b[0mi\u001b[0m\u001b[0;34m]\u001b[0m \u001b[0;34m=\u001b[0m \u001b[0mins_batch\u001b[0m\u001b[0;34m[\u001b[0m\u001b[0mi\u001b[0m\u001b[0;34m]\u001b[0m\u001b[0;34m.\u001b[0m\u001b[0mtoarray\u001b[0m\u001b[0;34m(\u001b[0m\u001b[0;34m)\u001b[0m\u001b[0;34m\u001b[0m\u001b[0;34m\u001b[0m\u001b[0m\n\u001b[1;32m    195\u001b[0m \u001b[0;34m\u001b[0m\u001b[0m\n\u001b[0;32m--> 196\u001b[0;31m                 \u001b[0mouts\u001b[0m \u001b[0;34m=\u001b[0m \u001b[0mfit_function\u001b[0m\u001b[0;34m(\u001b[0m\u001b[0mins_batch\u001b[0m\u001b[0;34m)\u001b[0m\u001b[0;34m\u001b[0m\u001b[0;34m\u001b[0m\u001b[0m\n\u001b[0m\u001b[1;32m    197\u001b[0m                 \u001b[0mouts\u001b[0m \u001b[0;34m=\u001b[0m \u001b[0mto_list\u001b[0m\u001b[0;34m(\u001b[0m\u001b[0mouts\u001b[0m\u001b[0;34m)\u001b[0m\u001b[0;34m\u001b[0m\u001b[0;34m\u001b[0m\u001b[0m\n\u001b[1;32m    198\u001b[0m                 \u001b[0;32mfor\u001b[0m \u001b[0ml\u001b[0m\u001b[0;34m,\u001b[0m \u001b[0mo\u001b[0m \u001b[0;32min\u001b[0m \u001b[0mzip\u001b[0m\u001b[0;34m(\u001b[0m\u001b[0mout_labels\u001b[0m\u001b[0;34m,\u001b[0m \u001b[0mouts\u001b[0m\u001b[0;34m)\u001b[0m\u001b[0;34m:\u001b[0m\u001b[0;34m\u001b[0m\u001b[0;34m\u001b[0m\u001b[0m\n",
      "\u001b[0;32m~/.local/lib/python3.6/site-packages/tensorflow/python/keras/backend.py\u001b[0m in \u001b[0;36m__call__\u001b[0;34m(self, inputs)\u001b[0m\n\u001b[1;32m   3290\u001b[0m \u001b[0;34m\u001b[0m\u001b[0m\n\u001b[1;32m   3291\u001b[0m     fetched = self._callable_fn(*array_vals,\n\u001b[0;32m-> 3292\u001b[0;31m                                 run_metadata=self.run_metadata)\n\u001b[0m\u001b[1;32m   3293\u001b[0m     \u001b[0mself\u001b[0m\u001b[0;34m.\u001b[0m\u001b[0m_call_fetch_callbacks\u001b[0m\u001b[0;34m(\u001b[0m\u001b[0mfetched\u001b[0m\u001b[0;34m[\u001b[0m\u001b[0;34m-\u001b[0m\u001b[0mlen\u001b[0m\u001b[0;34m(\u001b[0m\u001b[0mself\u001b[0m\u001b[0;34m.\u001b[0m\u001b[0m_fetches\u001b[0m\u001b[0;34m)\u001b[0m\u001b[0;34m:\u001b[0m\u001b[0;34m]\u001b[0m\u001b[0;34m)\u001b[0m\u001b[0;34m\u001b[0m\u001b[0;34m\u001b[0m\u001b[0m\n\u001b[1;32m   3294\u001b[0m     output_structure = nest.pack_sequence_as(\n",
      "\u001b[0;32m~/.local/lib/python3.6/site-packages/tensorflow/python/client/session.py\u001b[0m in \u001b[0;36m__call__\u001b[0;34m(self, *args, **kwargs)\u001b[0m\n\u001b[1;32m   1456\u001b[0m         ret = tf_session.TF_SessionRunCallable(self._session._session,\n\u001b[1;32m   1457\u001b[0m                                                \u001b[0mself\u001b[0m\u001b[0;34m.\u001b[0m\u001b[0m_handle\u001b[0m\u001b[0;34m,\u001b[0m \u001b[0margs\u001b[0m\u001b[0;34m,\u001b[0m\u001b[0;34m\u001b[0m\u001b[0;34m\u001b[0m\u001b[0m\n\u001b[0;32m-> 1458\u001b[0;31m                                                run_metadata_ptr)\n\u001b[0m\u001b[1;32m   1459\u001b[0m         \u001b[0;32mif\u001b[0m \u001b[0mrun_metadata\u001b[0m\u001b[0;34m:\u001b[0m\u001b[0;34m\u001b[0m\u001b[0;34m\u001b[0m\u001b[0m\n\u001b[1;32m   1460\u001b[0m           \u001b[0mproto_data\u001b[0m \u001b[0;34m=\u001b[0m \u001b[0mtf_session\u001b[0m\u001b[0;34m.\u001b[0m\u001b[0mTF_GetBuffer\u001b[0m\u001b[0;34m(\u001b[0m\u001b[0mrun_metadata_ptr\u001b[0m\u001b[0;34m)\u001b[0m\u001b[0;34m\u001b[0m\u001b[0;34m\u001b[0m\u001b[0m\n",
      "\u001b[0;31mKeyboardInterrupt\u001b[0m: "
     ]
    }
   ],
   "source": [
    "for (i, model) in enumerate(models):\n",
    "    print(\"Model:\", i)\n",
    "    for begin, end in batches:\n",
    "        x_batch, y_batch = load_batch(X_train, Y_train, begin, end)\n",
    "        model.fit(x_batch, y_batch, batch_size=256, epochs=4)"
   ]
  },
  {
   "cell_type": "code",
   "execution_count": 120,
   "metadata": {},
   "outputs": [],
   "source": [
    "for (i, model) in enumerate(models):\n",
    "    model.save_weights(f\"weights_model{i+1}.h5\")"
   ]
  },
  {
   "cell_type": "markdown",
   "metadata": {},
   "source": [
    "## Test on development set"
   ]
  },
  {
   "cell_type": "code",
   "execution_count": 102,
   "metadata": {},
   "outputs": [],
   "source": [
    "def sample(preds, temperature=1.0):\n",
    "    preds = preds.reshape(preds.shape[1])\n",
    "    arr = np.asarray(preds).astype('float64')\n",
    "    log_preds_scaled = np.log(arr) / temperature\n",
    "    preds_scaled = np.exp(log_preds_scaled)\n",
    "    softmaxed = preds_scaled / np.sum(preds_scaled)\n",
    "    probas = np.random.multinomial(1, softmaxed, 1)\n",
    "    return np.argmax(probas)"
   ]
  },
  {
   "cell_type": "code",
   "execution_count": 116,
   "metadata": {},
   "outputs": [],
   "source": [
    "samples = list(zip(X_dev, Y_dev))[:100]\n",
    "\n",
    "def evaluate_model(model, samples, temperature=1.4):\n",
    "    perplexity = 0\n",
    "    accuracy = 0\n",
    "    \n",
    "    for x, y in samples:\n",
    "        words_seq = encode_words(x, w2v).reshape(1, SEQUENCE_LENGTH, EMBEDDING_SIZE)\n",
    "        preds = model.predict(words_seq)[0]\n",
    "        likelihood = preds[word2idx[y]]\n",
    "        perplexity += np.log2(likelihood)\n",
    "\n",
    "        y_hat = idx2word[sample(model.predict(words_seq), temperature=temperature)]\n",
    "        if y_hat == y:\n",
    "            accuracy += 1\n",
    "\n",
    "    num_samples = len(samples)\n",
    "    perplexity = np.power(2, perplexity * -1/num_samples)\n",
    "    \n",
    "    return accuracy / num_samples, perplexity"
   ]
  },
  {
   "cell_type": "code",
   "execution_count": 117,
   "metadata": {},
   "outputs": [
    {
     "name": "stderr",
     "output_type": "stream",
     "text": [
      "/home/alex/.local/lib/python3.6/site-packages/ipykernel_launcher.py:4: RuntimeWarning: divide by zero encountered in log\n",
      "  after removing the cwd from sys.path.\n"
     ]
    },
    {
     "name": "stdout",
     "output_type": "stream",
     "text": [
      "Model 0: acc 39.0%, perp 50.01\n",
      "Model 1: acc 21.0%, perp 32.26\n"
     ]
    }
   ],
   "source": [
    "for (i, model) in enumerate(models):\n",
    "    acc, perp = evaluate_model(model, samples)\n",
    "    print(f\"Model {i}: acc {round(acc*100, 2)}%, perp {round(perp, 2)}\")"
   ]
  },
  {
   "cell_type": "code",
   "execution_count": 119,
   "metadata": {},
   "outputs": [
    {
     "name": "stdout",
     "output_type": "stream",
     "text": [
      "look at her face , it 's only way drum <newline> i 'll have a little call me to show you <pad> , me knows a perfect day <newline> slipping here you that everybody me <newline> but you know what lovers something lonely <newline> just sing short it between baby say too lookin ( hehehe ) <newline> but there what who but yet ever dare can\n"
     ]
    }
   ],
   "source": [
    "#words = [\"never\", \"gonna\", \"give\", \"you\", \"up\", \",\"]\n",
    "words = [\"look\", \"at\", \"her\", \"face\", \",\", \"it\"]\n",
    "#words = [\"when\", \"there\", \"'s\", \"a\", \"dark\", \"storm\"]\n",
    "#words = [\"do\", \"better\", \",\", \"who\", \"better\", \"?\"]\n",
    "words_seq = encode_words(words, w2v)\n",
    "words_seq = words_seq.reshape(1, SEQUENCE_LENGTH, EMBEDDING_SIZE)\n",
    "#print(' '.join([decode_vec(words[0][i], w2v) for i in range(SEQUENCE_LENGTH)]))\n",
    "\n",
    "result = words\n",
    "for j in range(60):\n",
    "    word = idx2word[sample(model2.predict(words_seq), temperature=1.4)]\n",
    "    #word = one_hot_decode(model.predict(words_seq), idx2word)\n",
    "    result.append(word)\n",
    "    \n",
    "    new_words = np.zeros((1, SEQUENCE_LENGTH, EMBEDDING_SIZE))\n",
    "    for i in range(SEQUENCE_LENGTH-1):\n",
    "        new_words[0, i] = words_seq[0, i+1]\n",
    "    new_words[0, SEQUENCE_LENGTH-1] = encode_word(word, w2v)\n",
    "    words_seq = new_words\n",
    "\n",
    "#print(' '.join([decode_vec(words[0][i], w2v) for i in range(SEQUENCE_LENGTH)]))\n",
    "\n",
    "print(' '.join(result))\n",
    "    #words = new_words\n",
    "        #new_words[0] = words[0, 1]\n",
    "        #new_words[0, 1] = words[0, 2]\n",
    "        #new_words[0, 2] = words[0, 3]\n",
    "        #new_words[0, 3] = encode_word(word, word2idx)\n",
    "    "
   ]
  },
  {
   "cell_type": "code",
   "execution_count": null,
   "metadata": {},
   "outputs": [],
   "source": []
  },
  {
   "cell_type": "code",
   "execution_count": null,
   "metadata": {},
   "outputs": [],
   "source": []
  }
 ],
 "metadata": {
  "kernelspec": {
   "display_name": "Python 3",
   "language": "python",
   "name": "python3"
  },
  "language_info": {
   "codemirror_mode": {
    "name": "ipython",
    "version": 3
   },
   "file_extension": ".py",
   "mimetype": "text/x-python",
   "name": "python",
   "nbconvert_exporter": "python",
   "pygments_lexer": "ipython3",
   "version": "3.6.9"
  }
 },
 "nbformat": 4,
 "nbformat_minor": 2
}
