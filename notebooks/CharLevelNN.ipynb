{
 "cells": [
  {
   "cell_type": "markdown",
   "metadata": {},
   "source": [
    "## Data prep"
   ]
  },
  {
   "cell_type": "code",
   "execution_count": 6,
   "metadata": {},
   "outputs": [],
   "source": [
    "SEQUENCE_LENGTH = 6"
   ]
  },
  {
   "cell_type": "code",
   "execution_count": 1,
   "metadata": {},
   "outputs": [
    {
     "data": {
      "text/html": [
       "<div>\n",
       "<style scoped>\n",
       "    .dataframe tbody tr th:only-of-type {\n",
       "        vertical-align: middle;\n",
       "    }\n",
       "\n",
       "    .dataframe tbody tr th {\n",
       "        vertical-align: top;\n",
       "    }\n",
       "\n",
       "    .dataframe thead th {\n",
       "        text-align: right;\n",
       "    }\n",
       "</style>\n",
       "<table border=\"1\" class=\"dataframe\">\n",
       "  <thead>\n",
       "    <tr style=\"text-align: right;\">\n",
       "      <th></th>\n",
       "      <th>artist</th>\n",
       "      <th>song</th>\n",
       "      <th>link</th>\n",
       "      <th>text</th>\n",
       "    </tr>\n",
       "  </thead>\n",
       "  <tbody>\n",
       "    <tr>\n",
       "      <th>0</th>\n",
       "      <td>ABBA</td>\n",
       "      <td>Ahe's My Kind Of Girl</td>\n",
       "      <td>/a/abba/ahes+my+kind+of+girl_20598417.html</td>\n",
       "      <td>Look at her face, it's a wonderful face  \\nAnd...</td>\n",
       "    </tr>\n",
       "    <tr>\n",
       "      <th>1</th>\n",
       "      <td>ABBA</td>\n",
       "      <td>Andante, Andante</td>\n",
       "      <td>/a/abba/andante+andante_20002708.html</td>\n",
       "      <td>Take it easy with me, please  \\nTouch me gentl...</td>\n",
       "    </tr>\n",
       "    <tr>\n",
       "      <th>2</th>\n",
       "      <td>ABBA</td>\n",
       "      <td>As Good As New</td>\n",
       "      <td>/a/abba/as+good+as+new_20003033.html</td>\n",
       "      <td>I'll never know why I had to go  \\nWhy I had t...</td>\n",
       "    </tr>\n",
       "    <tr>\n",
       "      <th>3</th>\n",
       "      <td>ABBA</td>\n",
       "      <td>Bang</td>\n",
       "      <td>/a/abba/bang_20598415.html</td>\n",
       "      <td>Making somebody happy is a question of give an...</td>\n",
       "    </tr>\n",
       "    <tr>\n",
       "      <th>4</th>\n",
       "      <td>ABBA</td>\n",
       "      <td>Bang-A-Boomerang</td>\n",
       "      <td>/a/abba/bang+a+boomerang_20002668.html</td>\n",
       "      <td>Making somebody happy is a question of give an...</td>\n",
       "    </tr>\n",
       "  </tbody>\n",
       "</table>\n",
       "</div>"
      ],
      "text/plain": [
       "  artist                   song                                        link  \\\n",
       "0   ABBA  Ahe's My Kind Of Girl  /a/abba/ahes+my+kind+of+girl_20598417.html   \n",
       "1   ABBA       Andante, Andante       /a/abba/andante+andante_20002708.html   \n",
       "2   ABBA         As Good As New        /a/abba/as+good+as+new_20003033.html   \n",
       "3   ABBA                   Bang                  /a/abba/bang_20598415.html   \n",
       "4   ABBA       Bang-A-Boomerang      /a/abba/bang+a+boomerang_20002668.html   \n",
       "\n",
       "                                                text  \n",
       "0  Look at her face, it's a wonderful face  \\nAnd...  \n",
       "1  Take it easy with me, please  \\nTouch me gentl...  \n",
       "2  I'll never know why I had to go  \\nWhy I had t...  \n",
       "3  Making somebody happy is a question of give an...  \n",
       "4  Making somebody happy is a question of give an...  "
      ]
     },
     "execution_count": 1,
     "metadata": {},
     "output_type": "execute_result"
    }
   ],
   "source": [
    "import pandas as pd\n",
    "df = pd.read_csv(\"data/songdata.zip\")\n",
    "df.head()"
   ]
  },
  {
   "cell_type": "code",
   "execution_count": 2,
   "metadata": {},
   "outputs": [
    {
     "name": "stdout",
     "output_type": "stream",
     "text": [
      "Loaded from file\n",
      "Vocab size: 76\n"
     ]
    }
   ],
   "source": [
    "from pathlib import Path\n",
    "import util\n",
    "\n",
    "path = Path(\"chars.pkl\")\n",
    "chars = list()\n",
    "if path.is_file():\n",
    "    chars = util.load_vocab(path)\n",
    "    print(\"Loaded from file\")\n",
    "else:\n",
    "    vocab = set()\n",
    "    for song in df[\"text\"]:\n",
    "        chars = set(song)\n",
    "        vocab = vocab.union(chars)\n",
    "    chars = list(vocab)\n",
    "    util.write_vocab(path, chars)\n",
    "    print(\"Generated from source\")\n",
    "    \n",
    "vocab_size = len(chars)\n",
    "print(\"Vocab size:\", vocab_size)"
   ]
  },
  {
   "cell_type": "code",
   "execution_count": 3,
   "metadata": {},
   "outputs": [],
   "source": [
    "char2idx = { char:i for i,char in enumerate(chars) }\n",
    "idx2char = { i:char for i,char in enumerate(chars) }"
   ]
  },
  {
   "cell_type": "code",
   "execution_count": 4,
   "metadata": {},
   "outputs": [],
   "source": [
    "def build_samples(song, buffer_length):\n",
    "    tokens = song\n",
    "\n",
    "    x_train = []\n",
    "    y_train = []\n",
    "    for i in range(0, len(song)):\n",
    "        if i+buffer_length+1 >= len(tokens):\n",
    "            continue\n",
    "            \n",
    "        x_train.append(tokens[i:i+buffer_length])\n",
    "        y_train.append(tokens[i+buffer_length])\n",
    "\n",
    "    return x_train,y_train"
   ]
  },
  {
   "cell_type": "code",
   "execution_count": 7,
   "metadata": {},
   "outputs": [
    {
     "name": "stdout",
     "output_type": "stream",
     "text": [
      "Training data length: 581323\n",
      "X[0]: Look a\n",
      "Y[0]: t\n"
     ]
    }
   ],
   "source": [
    "x_train, y_train = [], []\n",
    "for song in df[\"text\"][:500]:\n",
    "    xs, ys = build_samples(song, SEQUENCE_LENGTH)\n",
    "    x_train.extend(xs)\n",
    "    y_train.extend(ys)\n",
    "print(\"Training data length:\", len(x_train))\n",
    "print(\"X[0]:\", x_train[0])\n",
    "print(\"Y[0]:\", y_train[0])"
   ]
  },
  {
   "cell_type": "markdown",
   "metadata": {},
   "source": [
    "## Train/Test split"
   ]
  },
  {
   "cell_type": "code",
   "execution_count": 8,
   "metadata": {},
   "outputs": [],
   "source": [
    "from sklearn.model_selection import train_test_split\n",
    "import math\n",
    "\n",
    "# 80% Train, 10% Dev, 10% Test\n",
    "X_train, X_test, Y_train, Y_test = train_test_split(x_train, y_train, test_size=0.2)\n",
    "X_dev, X_test, Y_dev, Y_test = train_test_split(X_test, Y_test, test_size=0.5)"
   ]
  },
  {
   "cell_type": "code",
   "execution_count": 9,
   "metadata": {},
   "outputs": [],
   "source": [
    "import numpy as np\n",
    "from random import shuffle\n",
    "\n",
    "def load_batch(xs, ys, begin, end):\n",
    "    batch_size = end-begin\n",
    "    \n",
    "    x_train = np.zeros((batch_size, SEQUENCE_LENGTH, vocab_size))\n",
    "    y_train = np.zeros((batch_size, vocab_size))\n",
    "    \n",
    "    xs_batch = xs[begin:end]\n",
    "    ys_batch = ys[begin:end]\n",
    "    \n",
    "    c = list(zip(xs_batch, ys_batch))\n",
    "    shuffle(c)\n",
    "    xs_batch, ys_batch = zip(*c)\n",
    "    \n",
    "    for i in range(batch_size):\n",
    "        x_train[i] = util.one_hot_encode_sequence(xs_batch[i], char2idx)\n",
    "        y_train[i] = util.one_hot_encode(ys_batch[i], char2idx)\n",
    "    \n",
    "    return x_train, y_train"
   ]
  },
  {
   "cell_type": "code",
   "execution_count": 10,
   "metadata": {},
   "outputs": [
    {
     "name": "stdout",
     "output_type": "stream",
     "text": [
      "(512, 6, 76) (512, 76)\n"
     ]
    }
   ],
   "source": [
    "batches = util.generate_batches(len(X_train), 512)\n",
    "begin, end = next(batches)\n",
    "x_batch, y_batch = load_batch(X_train, Y_train, begin, end)\n",
    "print(x_batch.shape, y_batch.shape)"
   ]
  },
  {
   "cell_type": "code",
   "execution_count": 13,
   "metadata": {},
   "outputs": [
    {
     "name": "stdout",
     "output_type": "stream",
     "text": [
      "0 'y way ' -> o\n",
      "1 'urn ou' -> t\n",
      "2 'never ' -> e\n",
      "3 'tin'  ' -> \n",
      "\n",
      "4 ' life ' ->  \n",
      "5 'e and ' -> y\n",
      "6 '\n",
      "Peopl' -> e\n",
      "7 '\n",
      "Until' ->  \n",
      "8 'en you' ->  \n",
      "9 '  \n",
      "The' -> y\n"
     ]
    }
   ],
   "source": [
    "decode_fn = lambda x: util.one_hot_decode(x, idx2char)\n",
    "for i in range(10):\n",
    "    xs = ''.join(util.decode_sequence(x_batch[i], decode_fn))\n",
    "    y = util.one_hot_decode(y_batch[i], idx2char)\n",
    "    print(f\"{i} '{xs}' -> {y}\")"
   ]
  },
  {
   "cell_type": "markdown",
   "metadata": {},
   "source": [
    "## Training time!"
   ]
  },
  {
   "cell_type": "code",
   "execution_count": 75,
   "metadata": {},
   "outputs": [
    {
     "name": "stdout",
     "output_type": "stream",
     "text": [
      "Loaded!\n",
      "Model: \"sequential_10\"\n",
      "_________________________________________________________________\n",
      "Layer (type)                 Output Shape              Param #   \n",
      "=================================================================\n",
      "lstm_11 (LSTM)               (None, 512)               1206272   \n",
      "_________________________________________________________________\n",
      "dropout_11 (Dropout)         (None, 512)               0         \n",
      "_________________________________________________________________\n",
      "leaky_re_lu_10 (LeakyReLU)   (None, 512)               0         \n",
      "_________________________________________________________________\n",
      "dense_10 (Dense)             (None, 76)                38988     \n",
      "=================================================================\n",
      "Total params: 1,245,260\n",
      "Trainable params: 1,245,260\n",
      "Non-trainable params: 0\n",
      "_________________________________________________________________\n"
     ]
    }
   ],
   "source": [
    "from keras.models import Sequential\n",
    "from keras.layers import Dense, LSTM, Embedding, Dropout, GRU\n",
    "from keras.layers import LeakyReLU\n",
    "from pathlib import Path\n",
    "from keras.callbacks import Callback\n",
    "\n",
    "weights_path = Path(f\"weights_char_{SEQUENCE_LENGTH}.h5\")\n",
    "\n",
    "class LossHistory(Callback):\n",
    "    def on_train_begin(self, logs={}):\n",
    "        self.losses = []\n",
    "\n",
    "    def on_batch_end(self, batch, logs={}):\n",
    "        self.losses.append(logs.get('loss'))\n",
    "\n",
    "def build_model(vocab_size):\n",
    "    model = Sequential()\n",
    "    model.add(LSTM(512, input_shape=(SEQUENCE_LENGTH, vocab_size)))\n",
    "    model.add(Dropout(0.2))\n",
    "    model.add(LeakyReLU(alpha=0.1))\n",
    "    model.add(Dense(vocab_size, activation='softmax'))\n",
    "    model.compile(loss = 'categorical_crossentropy', optimizer=\"adam\", metrics = ['accuracy'])\n",
    "    return model\n",
    "\n",
    "model = build_model(vocab_size)\n",
    "if weights_path.is_file():\n",
    "    print(\"Loaded!\")\n",
    "    model.load_weights(weights_path.resolve())\n",
    "model.summary()"
   ]
  },
  {
   "cell_type": "code",
   "execution_count": 76,
   "metadata": {},
   "outputs": [
    {
     "name": "stdout",
     "output_type": "stream",
     "text": [
      "Number of batches: 1817\n",
      "Epoch 1/1\n",
      "1817/1817 [==============================] - 87s 48ms/step - loss: 1.2881 - accuracy: 0.6163\n"
     ]
    },
    {
     "data": {
      "text/plain": [
       "<keras.callbacks.callbacks.History at 0x7f9839588630>"
      ]
     },
     "execution_count": 76,
     "metadata": {},
     "output_type": "execute_result"
    }
   ],
   "source": [
    "import math\n",
    "batch_size = 256\n",
    "history = LossHistory()\n",
    "\n",
    "def generate_samples(batch_size):\n",
    "    batches = util.generate_batches(len(X_train), batch_size)\n",
    "    for begin, end in batches:\n",
    "        x_batch, y_batch = load_batch(X_train, Y_train, begin, end)\n",
    "        yield x_batch, y_batch\n",
    "        \n",
    "steps = math.ceil(len(X_train) / batch_size)\n",
    "print(\"Number of batches:\", steps)\n",
    "model.fit_generator(generate_samples(batch_size), epochs=1, steps_per_epoch=steps, callbacks=[history])"
   ]
  },
  {
   "cell_type": "code",
   "execution_count": 77,
   "metadata": {},
   "outputs": [
    {
     "data": {
      "image/png": "[encoded data removed]",
      "text/plain": [
       "<Figure size 432x288 with 1 Axes>"
      ]
     },
     "metadata": {
      "needs_background": "light"
     },
     "output_type": "display_data"
    }
   ],
   "source": [
    "import matplotlib.pyplot as plt\n",
    "plt.plot(history.losses)\n",
    "plt.title('Model loss')\n",
    "plt.ylabel('Loss')\n",
    "plt.xlabel('Batch')\n",
    "plt.show()"
   ]
  },
  {
   "cell_type": "code",
   "execution_count": 78,
   "metadata": {},
   "outputs": [],
   "source": [
    "model.save_weights(weights_path.resolve())"
   ]
  },
  {
   "cell_type": "code",
   "execution_count": 79,
   "metadata": {},
   "outputs": [],
   "source": [
    "from sampler import CharacterSampler\n",
    "sampler = CharacterSampler(model, chars, SEQUENCE_LENGTH)"
   ]
  },
  {
   "cell_type": "code",
   "execution_count": 82,
   "metadata": {},
   "outputs": [
    {
     "name": "stdout",
     "output_type": "stream",
     "text": [
      "i like the  \n",
      "Don't water  \n",
      "I mive can't just nearly\n",
      "ol of a dixiles  \n",
      "Sapalate  \n",
      "You'll be ender, He cam your destence everyande - ]\n",
      "  \n",
      "I was a felidacro  \n",
      "But it's omentar  \n",
      "And not she can to be dance (mancina, it if you always on the hirts ain't no blues  \n",
      "Unnide minnis ufay I'resighcy, loss on the darkest don't seep insh pants  \n",
      "'Cause we Hlay waiting for in  \n",
      "Could me shine  \n",
      "How must know thais crysouck no question, on you know  \n",
      "Your pain  \n",
      "  \n",
      "I can takes gonna ssides cime beglast  \n",
      "To the eccyou  \n",
      "I ballyong too many thing des(some to say down in my head  \n",
      "  \n",
      "Believe in the world  \n",
      "Does there about  \n",
      "Hey her  \n",
      "She's from the hearsed times you need you can I can't his gial  \n",
      "In I can shigh,\n"
     ]
    }
   ],
   "source": [
    "print(''.join(sampler.sample(\"i like\", 700)))"
   ]
  },
  {
   "cell_type": "code",
   "execution_count": 69,
   "metadata": {},
   "outputs": [
    {
     "name": "stdout",
     "output_type": "stream",
     "text": [
      "2017.584247843636\n"
     ]
    }
   ],
   "source": [
    "perplexity = 0.0\n",
    "for x, y in list(zip(X_dev, Y_dev))[:800]:\n",
    "    enc_seq = util.one_hot_encode_sequence(x, char2idx).reshape(1, SEQUENCE_LENGTH, vocab_size)\n",
    "    preds = model.predict(enc_seq)\n",
    "    y_hat = idx2char[np.argmax(preds)]\n",
    "    likelihood = preds[0][np.argmax(y)]\n",
    "    perplexity += np.log2(likelihood)\n",
    "perplexity = np.power(2, perplexity * -1/800)\n",
    "print(perplexity)"
   ]
  },
  {
   "cell_type": "code",
   "execution_count": null,
   "metadata": {},
   "outputs": [],
   "source": []
  }
 ],
 "metadata": {
  "kernelspec": {
   "display_name": "Python 3",
   "language": "python",
   "name": "python3"
  },
  "language_info": {
   "codemirror_mode": {
    "name": "ipython",
    "version": 3
   },
   "file_extension": ".py",
   "mimetype": "text/x-python",
   "name": "python",
   "nbconvert_exporter": "python",
   "pygments_lexer": "ipython3",
   "version": "3.6.9"
  }
 },
 "nbformat": 4,
 "nbformat_minor": 2
}
